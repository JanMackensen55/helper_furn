{
 "cells": [
  {
   "cell_type": "markdown",
   "id": "770d3e80",
   "metadata": {},
   "source": [
    "# Analysis of ranking in each month based on different cost benefit metrics\n",
    "\n",
    "All costs are normalized by the initial resources in the specific month e.g. c_wood(furniture)/r_init(wood)\n",
    "cost-metrics\n",
    "* "
   ]
  },
  {
   "cell_type": "code",
   "execution_count": 1,
   "id": "755d895b",
   "metadata": {},
   "outputs": [],
   "source": [
    "import numpy as np\n",
    "import matplotlib.pyplot as plt\n",
    "\n",
    "from lp_parser import parse_lp\n",
    "\n",
    "import pandas as pd\n",
    "import seaborn as sns\n",
    "import math\n"
   ]
  },
  {
   "cell_type": "code",
   "execution_count": null,
   "id": "b8a91b0b",
   "metadata": {},
   "outputs": [],
   "source": [
    "data = parse_lp('online_model.lp')\n",
    "furniture = list(data['profit'].keys())\n",
    "data"
   ]
  },
  {
   "cell_type": "code",
   "execution_count": null,
   "id": "aadf96d9",
   "metadata": {},
   "outputs": [],
   "source": [
    "def cost_benefit(data):\n",
    "    \"\"\"\n",
    "    returns building blocks for the cost-benefit metrics \n",
    "    input: the lp paramenters\n",
    "    output: dictionary with entries for each furniture-month combination with:\n",
    "            profit\n",
    "            normalized wood costs\n",
    "            normaized metal costs\n",
    "            normalized wood + normalized metal (normalized material costs)\n",
    "            normalized hour costs\n",
    "    \n",
    "    \"\"\"\n",
    "    # predefining the cost vector for the workshop hours since they don't change\n",
    "    costs = {'Bed':[0,0,3/23,4/26],'Bookcase': [0,0,5/23,3/26],'Chair': [4/26,1/30,0,0],'Table': [4/26,6/30,0,0]}\n",
    "    # initial resources\n",
    "    wood = data['resources']['wood']\n",
    "    metal = data['resources']['metal']\n",
    "    furniture = list(data['profit'].keys())\n",
    "\n",
    "    # create dictionary\n",
    "    cost_benefit = {}\n",
    "    for i in range(12):\n",
    "        for f in furniture:\n",
    "            cost_benefit[f +' '+ str(i+1)] = (data['profit'][f][i],\n",
    "                                          data['costs'][f]['wood']/wood[i],\n",
    "                                          data['costs'][f]['metal']/metal[i],\n",
    "                                          data['costs'][f]['wood']/wood[i]+data['costs'][f]['metal']/metal[i],\n",
    "                                         sum(costs[f]))\n",
    "    return cost_benefit\n",
    "cost_benefit = cost_benefit(data)"
   ]
  },
  {
   "cell_type": "code",
   "execution_count": null,
   "id": "b3a42e63",
   "metadata": {},
   "outputs": [],
   "source": [
    "# profit/ sum(anteil gesamtressouren in monat)\n",
    "# materials and workshops [3], [4]\n",
    "A = np.zeros((4,12))\n",
    "j = 0\n",
    "for f in furniture:\n",
    "    for m in range(1,13):\n",
    "        entry = f+ ' '+str(m)\n",
    "        A[j,m-1] = cost_benefit[entry][0]/(cost_benefit[entry][3]+\n",
    "                                                         cost_benefit[entry][4])\n",
    "    j += 1\n",
    "ax = sns.heatmap(A, annot=True)"
   ]
  },
  {
   "cell_type": "code",
   "execution_count": null,
   "id": "784c55b8",
   "metadata": {},
   "outputs": [],
   "source": [
    "# profit/ sum(anteil gesamtmaterial in monat)\n",
    "# materials and workshops [3], [4]\n",
    "A = np.zeros((4,12))\n",
    "j = 0\n",
    "for f in furniture:\n",
    "    for m in range(1,13):\n",
    "        entry = f+ ' '+str(m)\n",
    "        A[j,m-1] = cost_benefit[entry][0]/(cost_benefit[entry][3])\n",
    "    j += 1\n",
    "ax = sns.heatmap(A, annot=True)"
   ]
  },
  {
   "cell_type": "code",
   "execution_count": null,
   "id": "0553457c",
   "metadata": {
    "scrolled": true
   },
   "outputs": [],
   "source": [
    "#determine the overall max that can be build from each furniture\n",
    "# overall max values\n",
    "max_b = {'Bed':6,'Bookcase':4,'Chair': 6,'Table': 5}\n",
    "max_build = {}\n",
    "wood = data['resources']['wood']\n",
    "metal = data['resources']['metal']\n",
    "for m in range(1,13):\n",
    "       \n",
    "    for f in furniture:\n",
    "        entry = f+ ' '+str(m)\n",
    "        max_build[entry] = min(max_b[f],math.floor(wood[m-1]/data['costs'][f]['wood']),\n",
    "                                          math.floor(metal[m-1]/data['costs'][f]['metal']))\n"
   ]
  },
  {
   "cell_type": "code",
   "execution_count": null,
   "id": "2816c3a5",
   "metadata": {},
   "outputs": [],
   "source": [
    "A = np.zeros((4,12))\n",
    "j = 0\n",
    "for f in furniture:\n",
    "    for m in range(1,13):\n",
    "        entry = f+ ' '+str(m)\n",
    "        A[j,m-1] = cost_benefit[entry][0]*max_build[entry]\n",
    "    j += 1\n",
    "ax = sns.heatmap(A, annot=True)"
   ]
  },
  {
   "cell_type": "code",
   "execution_count": null,
   "id": "9de20860",
   "metadata": {
    "scrolled": true
   },
   "outputs": [],
   "source": [
    "# profit vs. woodcosts for each item in each month\n",
    "for f in furniture:\n",
    "    benefit = []\n",
    "    costs = []\n",
    "    for i in range(12):\n",
    "        benefit.append(cost_benefit[f+ ' '+str(i+1)][0])\n",
    "        costs.append(cost_benefit[f+' '+str(i+1)][1])\n",
    "    plt.scatter(costs, benefit)\n",
    "plt.axis([0, 0.25, 0, 11])\n",
    "plt.show()\n",
    "\n",
    "# profit vs. costs\n",
    "for i in range(12):\n",
    "    benefit = []\n",
    "    costs = []\n",
    "    for f in furniture:\n",
    "        benefit.append(cost_benefit[f+ ' '+str(i+1)][0])\n",
    "        costs.append(cost_benefit[f+' '+str(i+1)][1])\n",
    "    plt.scatter(costs, benefit)\n",
    "    plt.axis([0, 0.25, 0, 11])\n",
    "    plt.show()"
   ]
  },
  {
   "cell_type": "code",
   "execution_count": null,
   "id": "8e042cf2",
   "metadata": {},
   "outputs": [],
   "source": [
    "# profit vs. metalcosts\n",
    "for f in furniture:\n",
    "    benefit = []\n",
    "    costs = []\n",
    "    for i in range(12):\n",
    "        benefit.append(cost_benefit[f+ ' '+str(i+1)][0])\n",
    "        costs.append(cost_benefit[f+' '+str(i+1)][2])\n",
    "    plt.scatter(costs, benefit)\n",
    "plt.axis([0, 0.4, 0, 11])\n",
    "plt.show()\n",
    "\n",
    "# profit vs. costs\n",
    "for i in range(12):\n",
    "    benefit = []\n",
    "    costs = []\n",
    "    for f in furniture:\n",
    "        benefit.append(cost_benefit[f+ ' '+str(i+1)][0])\n",
    "        costs.append(cost_benefit[f+' '+str(i+1)][2])\n",
    "    plt.scatter(costs, benefit)\n",
    "plt.axis([0, 0.4, 0, 11])\n",
    "plt.show()"
   ]
  },
  {
   "cell_type": "code",
   "execution_count": null,
   "id": "700bf14c",
   "metadata": {
    "scrolled": true
   },
   "outputs": [],
   "source": [
    "# profit vs. resourcecosts\n",
    "for f in furniture:\n",
    "    benefit = []\n",
    "    costs = []\n",
    "    for i in range(12):\n",
    "        benefit.append(cost_benefit[f+ ' '+str(i+1)][0])\n",
    "        costs.append(cost_benefit[f+' '+str(i+1)][3])\n",
    "    plt.scatter(costs, benefit)\n",
    "plt.axis([0, 0.5, 0, 11])\n",
    "plt.show()\n",
    "\n",
    "# profit vs. costs\n",
    "for i in range(12):\n",
    "    benefit = []\n",
    "    costs = []\n",
    "    for f in furniture:\n",
    "        benefit.append(cost_benefit[f+ ' '+str(i+1)][0])\n",
    "        costs.append(cost_benefit[f+' '+str(i+1)][3])\n",
    "    plt.scatter(costs, benefit)\n",
    "    plt.axis([0, 0.5, 0, 11])\n",
    "    plt.show()"
   ]
  },
  {
   "cell_type": "code",
   "execution_count": null,
   "id": "4d260645",
   "metadata": {
    "scrolled": true
   },
   "outputs": [],
   "source": [
    "# profit vs. timecosts\n",
    "for f in furniture:\n",
    "    benefit = []\n",
    "    costs = []\n",
    "    for i in range(12):\n",
    "        benefit.append(cost_benefit[f+ ' '+str(i+1)][0])\n",
    "        costs.append(cost_benefit[f+' '+str(i+1)][4])\n",
    "    plt.scatter(costs, benefit)\n",
    "plt.axis([0, 0.4, 0, 11])\n",
    "plt.show()\n",
    "\n",
    "# profit vs. costs\n",
    "for i in range(4):\n",
    "    benefit = []\n",
    "    costs = []\n",
    "    for f in furniture:\n",
    "        benefit.append(cost_benefit[f+ ' '+str(i+1)][0])\n",
    "        costs.append(cost_benefit[f+' '+str(i+1)][4])\n",
    "    plt.scatter(costs, benefit)\n",
    "plt.axis([0, 0.4, 0, 11])\n",
    "plt.show()\n",
    "\n",
    "# profit vs. costs\n",
    "for i in range(4,8):\n",
    "    benefit = []\n",
    "    costs = []\n",
    "    for f in furniture:\n",
    "        benefit.append(cost_benefit[f+ ' '+str(i+1)][0])\n",
    "        costs.append(cost_benefit[f+' '+str(i+1)][4])\n",
    "    plt.scatter(costs, benefit)\n",
    "plt.axis([0, 0.4, 0, 11])\n",
    "plt.show()\n",
    "\n",
    "# profit vs. costs\n",
    "for i in range(8,12):\n",
    "    benefit = []\n",
    "    costs = []\n",
    "    for f in furniture:\n",
    "        benefit.append(cost_benefit[f+ ' '+str(i+1)][0])\n",
    "        costs.append(cost_benefit[f+' '+str(i+1)][4])\n",
    "    plt.scatter(costs, benefit)\n",
    "plt.axis([0, 0.4, 0, 11])\n",
    "plt.show()"
   ]
  },
  {
   "cell_type": "code",
   "execution_count": null,
   "id": "c007c1db",
   "metadata": {
    "scrolled": true
   },
   "outputs": [],
   "source": [
    "# profit vs. costs\n",
    "for f in furniture:\n",
    "    benefit = []\n",
    "    costs = []\n",
    "    for i in range(12):\n",
    "        benefit.append(cost_benefit[f+ ' '+str(i+1)][0])\n",
    "        costs.append(cost_benefit[f+' '+str(i+1)][3]+cost_benefit[f+' '+str(i+1)][4])\n",
    "    plt.scatter(costs, benefit)\n",
    "plt.axis([0, 0.9, 0, 11])\n",
    "plt.show()\n",
    "\n",
    "# profit vs. costs\n",
    "for i in range(12):\n",
    "    benefit = [0]\n",
    "    costs = [0]\n",
    "    for f in furniture:\n",
    "        benefit.append(cost_benefit[f+ ' '+str(i+1)][0])\n",
    "        costs.append(cost_benefit[f+' '+str(i+1)][3]+cost_benefit[f+' '+str(i+1)][4])\n",
    "    plt.scatter(costs, benefit)\n",
    "    sns.regplot(costs, benefit, ci=None)\n",
    "    plt.axis([0, 0.9, 0, 11])\n",
    "    plt.show()\n"
   ]
  },
  {
   "cell_type": "code",
   "execution_count": null,
   "id": "8fbc7890",
   "metadata": {},
   "outputs": [],
   "source": []
  }
 ],
 "metadata": {
  "kernelspec": {
   "display_name": "Python 3 (ipykernel)",
   "language": "python",
   "name": "python3"
  },
  "language_info": {
   "codemirror_mode": {
    "name": "ipython",
    "version": 3
   },
   "file_extension": ".py",
   "mimetype": "text/x-python",
   "name": "python",
   "nbconvert_exporter": "python",
   "pygments_lexer": "ipython3",
   "version": "3.7.11"
  }
 },
 "nbformat": 4,
 "nbformat_minor": 5
}
