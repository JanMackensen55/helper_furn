{
 "cells": [
  {
   "cell_type": "markdown",
   "metadata": {},
   "source": [
    "# Compare solution strategies for the think aloud experiment"
   ]
  },
  {
   "cell_type": "code",
   "execution_count": null,
   "metadata": {},
   "outputs": [],
   "source": [
    "import os\n",
    "import sys\n",
    "currentdir = os.getcwd() \n",
    "parentdir = os.path.dirname(currentdir)\n",
    "sys.path.insert(0, parentdir) \n",
    "\n",
    "\n",
    "import pandas as pd\n",
    "import numpy as np\n",
    "import ast\n",
    "import json\n",
    "import os\n",
    "from df_utils import *\n",
    "import seaborn as sns\n",
    "import matplotlib.pyplot as plt\n",
    "from matplotlib.lines import Line2D\n",
    "import gym\n",
    "import gym_furniture"
   ]
  },
  {
   "cell_type": "code",
   "execution_count": null,
   "metadata": {},
   "outputs": [],
   "source": [
    "env= gym.make('TAFurniture-v0')\n",
    "global_greedy_rewards, global_greedy_actions, global_greedy_states = strategy_run(env)\n",
    "grouped_greedy_rewards,grouped_greedy_actions, grouped_greedy_states  = strategy_run(env, strategy = 'grouped greedy', first_group = 1)\n",
    "material_balancing_rewards, material_balancing_actions, material_balancing_states = strategy_run(env, strategy = 'material balancing')\n",
    "greedy_material_balancing_rewards, greedy_material_balancing_actions, greedy_material_balancing_states = strategy_run(env, strategy = 'greedy material balancing')\n",
    "greedy_then_material_balancing_rewards, greedy_then_material_balancing_actions, greedy_then_material_balancing_states = strategy_run(env,strategy = 'greedy, then material balancing')\n",
    "minimize_min_rewards, minimize_min_actions, minimize_min_states = strategy_run(env,strategy = 'minimize_min')\n",
    "gr_minimize_min_rewards, gr_minimize_min_actions, gr_minimize_min_states = strategy_run(env,strategy = 'greedy_minimize_min')\n",
    "\n",
    "optimal_solutions = np.array([env.optimal_solution( month) for month in range(env.months)])\n",
    "env.months#\n",
    "env.optimal_solution( 8)"
   ]
  },
  {
   "cell_type": "code",
   "execution_count": null,
   "metadata": {},
   "outputs": [],
   "source": [
    "vp = 203\n",
    "fig = plt.figure(figsize=(18, 8))\n",
    "plt.title('Percentage under optimal solution thinkaloud study strategies')\n",
    "\n",
    "#fig.axhline(0, color = 'gray')\n",
    "sns.lineplot(x=list(range(1,8)),y=np.zeros(7), linewidth = 0.8, color = 'gray')\n",
    "\n",
    "\n",
    "line1 = sns.lineplot(x=list(range(1,13)),y=((global_greedy_rewards/optimal_solutions)-1)*100,   linewidth = 1,  marker = \"o\", color = 'darkred')\n",
    "line2 = sns.lineplot(x=list(range(1,13)),y=((material_balancing_rewards/optimal_solutions)-1)*100,   linewidth = 1,  marker = \"o\", color = 'black')\n",
    "line3 = sns.lineplot(x=list(range(1,13)),y=((grouped_greedy_rewards/optimal_solutions)-1)*100,   linewidth = 1,  marker = \"o\", color = 'darkblue')\n",
    "line4 = sns.lineplot(x=list(range(1,13)),y=((greedy_material_balancing_rewards/optimal_solutions)-1)*100,   linewidth = 1,  marker = \"o\", color = 'darkgreen')\n",
    "line5 = sns.lineplot(x=list(range(1,13)),y=((greedy_then_material_balancing_rewards/optimal_solutions)-1)*100,   linewidth = 1,  marker = \"o\", color = 'darkorange')\n",
    "line6 = sns.lineplot(x=list(range(1,13)),y=((minimize_min_rewards/optimal_solutions)-1)*100,   linewidth = 1,  marker = \"o\", color = 'grey')\n",
    "\n",
    "xlabel = plt.xlabel('Month', fontsize = 17)\n",
    "ylabel = plt.ylabel('Percentage under optimal', fontsize = 17)\n",
    "plt.ylim([-80,1])\n",
    "plt.xlim([1, 7])\n",
    "custom_handles = [Line2D([], [], marker='o', color='darkred',linestyle='None',markerfacecolor='darkred', markersize=10), \n",
    "                  Line2D([], [], marker='o', color='black',linestyle='None', markerfacecolor='black', markersize=10), \n",
    "                  Line2D([], [], marker='o', color='darkblue',linestyle='None',markerfacecolor='darkblue', markersize=10), \n",
    "                  Line2D([], [], marker='o', color='darkgreen',linestyle='None',markerfacecolor='darkgreen', markersize=10),\n",
    "                  Line2D([], [], marker='o', color='darkorange',linestyle='None',markerfacecolor='darkorange', markersize=10),\n",
    "                     Line2D([], [], marker='o', color='darkorange',linestyle='None',markerfacecolor='grey', markersize=10)]\n",
    "\n",
    "\n",
    "custom_labels = ['global greedy', 'material balancing', 'grouped_greedy_1', 'greedy material balancing', 'greedy then balancing', 'minimize_min']\n",
    "l = fig.legend(custom_handles, custom_labels, bbox_to_anchor=(0.88, 0.2), loc='lower right', borderaxespad=0.)    "
   ]
  }
 ],
 "metadata": {
  "kernelspec": {
   "display_name": "Python 3 (ipykernel)",
   "language": "python",
   "name": "python3"
  },
  "language_info": {
   "codemirror_mode": {
    "name": "ipython",
    "version": 3
   },
   "file_extension": ".py",
   "mimetype": "text/x-python",
   "name": "python",
   "nbconvert_exporter": "python",
   "pygments_lexer": "ipython3",
   "version": "3.9.12"
  }
 },
 "nbformat": 4,
 "nbformat_minor": 4
}
