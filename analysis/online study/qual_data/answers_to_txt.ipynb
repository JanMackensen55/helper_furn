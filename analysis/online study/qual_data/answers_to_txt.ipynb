{
 "cells": [
  {
   "cell_type": "code",
   "execution_count": 2,
   "metadata": {},
   "outputs": [],
   "source": [
    "import pandas as pd\n",
    "import csv\n",
    "import os\n",
    "cur_dir =  os.getcwd() \n"
   ]
  },
  {
   "cell_type": "code",
   "execution_count": 4,
   "metadata": {
    "scrolled": true
   },
   "outputs": [],
   "source": [
    "#this method decomposes a given csv file and extracts all qualitative answers\n",
    "def decompose_csv(file_identifier):\n",
    "    df = pd.read_csv(file_identifier, sep=';', encoding='UTF-16 LE')\n",
    "    df = df.set_index('CASE')\n",
    "    df_free_answers = df.filter(regex='AN') \n",
    "    df_assessment = df.filter(regex='AS0') \n",
    "    df_mike_feedback = df.filter(regex='FB')\n",
    "    df_qual = pd.concat([df_free_answers, df_mike_feedback, df_assessment], axis=1)\n",
    "    return df_qual\n",
    "\n",
    "# this method takes a csv file as input and creates a new txt file for every case\n",
    "# with the case id, the code of a question, the text of a question and the answers\n",
    "def create_txt(file_identifier):\n",
    "    # we drop all the entries without qualitative answers\n",
    "    df_qual = decompose_csv(file_identifier).dropna()[1:] \n",
    "    questions = 'questions.csv'\n",
    "    df_questions = pd.read_csv(questions, sep=';')\n",
    "#    codes = list(df_qual.columns.values)\n",
    "    codes = ['AS01_01','AS01_02', 'AS02_01', 'AS02_02', 'AN01_01', 'AN01_02', 'FB01_01', 'FB01_02', 'FB02_01' ,'FB02_02' ]\n",
    "\n",
    "    labels = df_questions[:]['Frage'].values.tolist()\n",
    "   # print(labels)\n",
    "    likert_questions = ['FB01_01', 'FB02_01', 'AS01_01', 'AS02_01']\n",
    "  \n",
    "    for index, row in df_qual.iterrows():\n",
    "        new_file = 'case_txts/case_{}.txt'.format(index)\n",
    "        with open(new_file, 'w') as f:\n",
    "            # write the id of the case\n",
    "            f.write('case {}:\\n'.format(index))\n",
    "            for i in range(len(row)):\n",
    "                # get the question corresponding to the questions code\n",
    "                question = df_questions.loc[df_questions['Code'] == codes[i]]['Frage'].values[0]\n",
    "                f.write('\\n{} - {}\\n'.format(codes[i], question))\n",
    "                # if it is a likert question we have to map the value for answer to the actual answer\n",
    "                if codes[i] in likert_questions:\n",
    "                    answers = df_questions.loc[df_questions['Code'] == codes[i]]['Antwortart'].values[0].split(',')\n",
    "                    this_answer = answers[int(row[codes[i]])-1]\n",
    "                    f.write('{}\\n'.format(this_answer))\n",
    "                # else it's a freetext answer so we can simply write it down\n",
    "                else:\n",
    "                    f.write('{} \\n'.format(row[codes[i]]))\n",
    "        \n",
    "    return "
   ]
  },
  {
   "cell_type": "code",
   "execution_count": 6,
   "metadata": {},
   "outputs": [],
   "source": [
    "parent_dir = os.path.dirname(os.path.dirname(cur_dir))\n",
    "data_file = 'data/full_experiment/data_furnituremanufacturing_2021-08-11_09-15.csv'\n",
    "data_path = os.path.join(parent_dir, data_file)\n",
    "\n",
    "create_txt(data_path)"
   ]
  },
  {
   "cell_type": "code",
   "execution_count": 24,
   "metadata": {},
   "outputs": [],
   "source": [
    "# we drop all the entries without qualitative answers\n",
    "df_qual = decompose_csv(data_path).dropna()[1:] \n",
    "questions = 'questions.csv'\n",
    "df_questions = pd.read_csv(questions, sep=';')\n",
    "#    codes = list(df_qual.columns.values)\n",
    "codes = ['AS01_01','AS01_02', 'AS02_01', 'AS02_02', 'AN01_01', 'AN01_02', 'FB01_01', 'FB01_02', 'FB02_01' ,'FB02_02' ]\n",
    "\n",
    "labels = df_questions[:]['Frage'].values.tolist()\n",
    "# print(labels)\n",
    "likert_questions = ['FB01_01', 'FB02_01', 'AS01_01', 'AS02_01']\n",
    "df_qual\n",
    "\n",
    "for index, row in df_qual.iterrows():\n",
    "    for i in range(len(row)):\n",
    "                # get the question corresponding to the questions code\n",
    "            question = df_questions.loc[df_questions['Code'] == codes[i]]['Frage'].values[0]\n",
    "            if codes[i] in likert_questions:\n",
    "                answers = df_questions.loc[df_questions['Code'] == codes[i]]['Antwortart'].values[0].split(',')\n",
    "                this_answer = answers[int(row[codes[i]])-1]\n"
   ]
  },
  {
   "cell_type": "code",
   "execution_count": null,
   "metadata": {},
   "outputs": [],
   "source": []
  }
 ],
 "metadata": {
  "kernelspec": {
   "display_name": "Python 3",
   "language": "python",
   "name": "python3"
  },
  "language_info": {
   "codemirror_mode": {
    "name": "ipython",
    "version": 3
   },
   "file_extension": ".py",
   "mimetype": "text/x-python",
   "name": "python",
   "nbconvert_exporter": "python",
   "pygments_lexer": "ipython3",
   "version": "3.7.9"
  }
 },
 "nbformat": 4,
 "nbformat_minor": 5
}
