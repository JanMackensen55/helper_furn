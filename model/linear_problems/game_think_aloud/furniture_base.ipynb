{
 "cells": [
  {
   "cell_type": "markdown",
   "metadata": {},
   "source": [
    "# Furniture Company\n",
    "\n",
    "\n",
    "**This is the inital version of the linear model for the furniture problem and serves as a base for the other models in this project**\n",
    "\n",
    "\n",
    "We decided to use a three part exercise consisting of a production problem, a workforce problem and a transportation problem. The three parts can be solved seperatly one after the other, were problems use data from prior parts or at the same time as a big more complex problem."
   ]
  },
  {
   "cell_type": "markdown",
   "metadata": {},
   "source": [
    "## Seperate Problems\n",
    "\n",
    "First we define each problem seperately with parameters to give on to the next problem."
   ]
  },
  {
   "cell_type": "markdown",
   "metadata": {},
   "source": [
    "### Production\n",
    "\n",
    "The company has two branches.\n",
    "Branch one:\n",
    "* produces chairs and desks\n",
    "* Each chair requires \n",
    "    * 1 unit of wood, 1 unit of metal\n",
    "    * 2 hours in workshop A, 1 hour in workshop B\n",
    "    * brings a net profit of 3€\n",
    "* Each desk requires\n",
    "    * 2 units of wood, 1 unit of metal\n",
    "    * 3 hours in workshop A, 1 hour in workshop B\n",
    "    * brings a net profit of 4€\n",
    "* 120 hours are available in workshop A\n",
    "* 50 hours are available in workshop B\n",
    "\n",
    "Branch two:\n",
    "* produces bedframes and bookcases\n",
    "* each bedframe requires\n",
    "    * 2 units of wood, 1 unit of metal\n",
    "    * 1 hour in workshop C, 2 hours in workshop D\n",
    "    * brings a net profit of 4€\n",
    "* each bookcase requires\n",
    "    * 3 units of wood, 1 unit of metal\n",
    "    * 3 hours in workshop C, 1 hour in workshop D\n",
    "    * brings a net profit of 7€\n",
    "* 150 hours are available in workshop C\n",
    "* 100 hours are available in workshop D\n",
    "    \n",
    "Overal there are only 225 units of wood and 114 units of metal available\n",
    "\n",
    "We can simulate this problem for several months by adding fluctuations to the net profits of each item."
   ]
  },
  {
   "cell_type": "markdown",
   "metadata": {},
   "source": [
    "#### Fluctuations:\n",
    "\n",
    "|     | J | F | M | A | M | J | J | A | S | O | N | D |\n",
    "|-----|---|---|---|---|---|---|---|---|---|---|---|---|\n",
    "|Chair| 3 | 3 | 4 | 3 | 2 | 2 | 3 | 3 | 4 | 2 | 3 | 4 |\n",
    "|Desk | 5 | 3 | 4 | 3 | 5 | 4 | 3 | 5 | 4 | 4 | 3 | 4 |\n",
    "|Bed  | 3 | 5 | 4 | 3 | 3 | 3 | 3 | 5 | 4 | 4 | 3 | 5 |\n",
    "|Books| 7 | 6 | 8 | 7 | 7 | 7 | 8 | 7 | 6 | 6 | 8 | 7 |"
   ]
  },
  {
   "cell_type": "markdown",
   "metadata": {},
   "source": [
    "### Workforce\n",
    "The production management decides how many of each furniture type they want to produce in each month, which yields the fluctuating demand for workforce.\n",
    "* each worker can produce any type\n",
    "* a worker needs double the time needed in the workshop to produce an item\n",
    "\n",
    "* for each worker we can calculate with 150 workhours per month\n",
    "* there are x workers employed at the moment\n",
    "* there is no inventory\n",
    "\n",
    "The following are possible strategies\n",
    "1. Hiring and firing\n",
    "    * at most 40 workers per month\n",
    "    * 300€ extra cost for hiring\n",
    "    * 420€ axtra cost for firing\n",
    "2. Overtime work\n",
    "    * 6 extra hours per worker\n",
    "    * 5€ extra cost per hour in overtime\n",
    "    \n",
    "And Maybe:\n",
    "3. Store surplus for future\n",
    "    * costs 8€ per month per unit\n",
    "\n",
    "Without storage:\n",
    "4. Add cost of surperfluous workforce or a maximum\n",
    "    * a worker with nothing to do costs 15€ extra per hour\n",
    "\n",
    "Minimize extra costs."
   ]
  },
  {
   "cell_type": "markdown",
   "metadata": {},
   "source": [
    "## Transportation\n",
    "All Produced items have a market.\n",
    "\n",
    "* the company has two factories at two cities F1 and F2\n",
    "    * possible adjustments to only have one factory site:\n",
    "    * two different modes of transportation (e.g. trucks and trains)\n",
    "    * alternative: One load has x space and costs y independent of amount \n",
    "* three reail centers C1,C2,C3\n",
    "* monthly demand C1:4/8, C2:3/8, C3:1/8 of the total supply\n",
    "    * alternative: demand for 3 month at once\n",
    "* monthly supply at factories F1:1/3 of all different furniture types and F2:2/3 \n",
    "* total supply == toal demand, otherwise add retail or demand for overflow\n",
    "* Goal: Determine Quantity to be transported from each factory to each retail center, minimize shipping costs and satisfy demand\n",
    "* cost of transportation of one item between any factory and retail center given in in 1$/item:\n",
    "\n",
    "|    | C1 | C2 | C3 |   |\n",
    "|----|----|----|----|---|\n",
    "| F1 | 5  | 5  | 3  |   | \n",
    "| F2 | 6  | 4  | 1  |   | "
   ]
  },
  {
   "cell_type": "markdown",
   "metadata": {},
   "source": [
    "# Code"
   ]
  },
  {
   "cell_type": "code",
   "execution_count": null,
   "metadata": {},
   "outputs": [],
   "source": [
    "import pyomo.environ as pyo\n",
    "import numpy as np\n",
    "from pyomo.opt import SolverFactory\n",
    "import matplotlib.pyplot as plt\n",
    "#import make_matrix as mm"
   ]
  },
  {
   "cell_type": "markdown",
   "metadata": {},
   "source": [
    "## Parameters"
   ]
  },
  {
   "cell_type": "code",
   "execution_count": null,
   "metadata": {},
   "outputs": [],
   "source": [
    "months = 12\n",
    "time = range(months)"
   ]
  },
  {
   "cell_type": "markdown",
   "metadata": {},
   "source": [
    "### Production"
   ]
  },
  {
   "cell_type": "code",
   "execution_count": null,
   "metadata": {},
   "outputs": [],
   "source": [
    "factor = 10\n",
    "\n",
    "chair_profit = [3,3,4,3,2,2,3,3,4,2,3,4]\n",
    "table_profit = [4,3,5,3,5,4,4,5,4,4,3,4]\n",
    "bed_profit = [4,5,4,4,3,3,4,5,4,4,3,5]\n",
    "book_profit = [7,6,8,7,7,7,8,7,6,6,8,7]\n",
    "\n",
    "avail_wood = 225 * factor\n",
    "avail_metal = 114 * factor\n",
    "avail_A = 120 * factor\n",
    "avail_B = 50 * factor\n",
    "avail_C = 150 * factor\n",
    "avail_D = 100 * factor"
   ]
  },
  {
   "cell_type": "markdown",
   "metadata": {},
   "source": [
    "### Workers"
   ]
  },
  {
   "cell_type": "code",
   "execution_count": null,
   "metadata": {},
   "outputs": [],
   "source": [
    "workhours = 150\n",
    "wages = 15\n",
    "max_change = 10\n",
    "initial_workers = 4 * factor\n",
    "cost_hire = 300\n",
    "cost_fire = 420\n",
    "cost_overtime = 5\n",
    "max_overtime = 6"
   ]
  },
  {
   "cell_type": "markdown",
   "metadata": {},
   "source": [
    "## Variables"
   ]
  },
  {
   "cell_type": "code",
   "execution_count": null,
   "metadata": {},
   "outputs": [],
   "source": [
    "def add_variables(m, mode):\n",
    "    if mode == 'production' or mode =='joint':\n",
    "        m.chairs = pyo.Var(time, within=pyo.NonNegativeIntegers)\n",
    "        m.tables = pyo.Var(time, within=pyo.NonNegativeIntegers)\n",
    "        m.bedframes = pyo.Var(time, within=pyo.NonNegativeIntegers)\n",
    "        m.bookcases = pyo.Var(time, within=pyo.NonNegativeIntegers)\n",
    "    if mode == 'workers' or mode == 'joint':\n",
    "        m.hire = pyo.Var(time, within=pyo.NonNegativeIntegers)\n",
    "        m.fire = pyo.Var(time, within=pyo.NonNegativeIntegers)\n",
    "        m.overtime = pyo.Var(time, within=pyo.NonNegativeReals)\n",
    "        m.workers = pyo.Var(time, within=pyo.NonNegativeReals)\n",
    "        m.required_hours = pyo.Var(time, within=pyo.NonNegativeReals)\n",
    "    return m\n"
   ]
  },
  {
   "cell_type": "markdown",
   "metadata": {},
   "source": [
    "## Objective"
   ]
  },
  {
   "cell_type": "code",
   "execution_count": null,
   "metadata": {},
   "outputs": [],
   "source": [
    "def add_objective(m,mode):\n",
    "    if mode == 'production':\n",
    "            m.cost = pyo.Objective(expr = sum(m.chairs[i] * chair_profit[i] \n",
    "                           + m.tables[i] * table_profit[i] \n",
    "                           + m.bedframes[i] * bed_profit[i]\n",
    "                           + m.bookcases[i] * book_profit[i] for i in time), sense=pyo.maximize)\n",
    "    elif mode == 'workers':\n",
    "            m.cost = pyo.Objective(expr = sum(m.hire[i] * cost_hire \n",
    "                            + m.fire[i] * cost_fire\n",
    "                            + m.overtime[i] * cost_overtime \n",
    "                            + (m.workers[i]*workhours + m.overtime[i] - m.required_hours[i]) * wages\n",
    "                              for i in time), sense=pyo.minimize)\n",
    "    elif mode == 'joint':\n",
    "            m.cost = pyo.Objective(expr = sum(m.chairs[i] * chair_profit[i] \n",
    "                           + m.tables[i] * table_profit[i] \n",
    "                           + m.bedframes[i] * bed_profit[i]\n",
    "                           + m.bookcases[i] * book_profit[i]\n",
    "                           - m.hire[i] * cost_hire \n",
    "                           - m.fire[i] * cost_fire\n",
    "                           - m.overtime[i] * cost_overtime \n",
    "                           - (m.workers[i]*workhours + m.overtime[i] - m.required_hours[i]) * wages\n",
    "                              for i in time), sense=pyo.maximize)\n",
    "        \n",
    "    return m"
   ]
  },
  {
   "cell_type": "markdown",
   "metadata": {},
   "source": [
    "## Constraints"
   ]
  },
  {
   "cell_type": "code",
   "execution_count": null,
   "metadata": {},
   "outputs": [],
   "source": [
    "def add_constraints(m, mode):\n",
    "\n",
    "# Add the different kinds of constraints to the m\n",
    "    if mode == 'production' or mode == 'joint':\n",
    "        m.materialEQ = pyo.ConstraintList()\n",
    "        m.workshopEQ = pyo.ConstraintList()\n",
    "    \n",
    "        for i in time:\n",
    "            m.materialEQ.add(1*m.chairs[i] + 2*m.tables[i] + 2*m.bedframes[i] + 3*m.bookcases[i] <= avail_wood)\n",
    "            m.materialEQ.add(1*m.chairs[i] + 1*m.tables[i] + 1*m.bedframes[i] + 1*m.bookcases[i] <=avail_metal)\n",
    "        \n",
    "        for i in time:\n",
    "            m.workshopEQ.add(2*m.chairs[i] + 3*m.tables[i] <= avail_A)\n",
    "            m.workshopEQ.add(1*m.chairs[i] + 1*m.tables[i] <= avail_B)\n",
    "            m.workshopEQ.add(1*m.bedframes[i] + 3*m.bookcases[i] <= avail_C)\n",
    "            m.workshopEQ.add(2*m.bedframes[i] + 1*m.bookcases[i] <= avail_D)\n",
    "    if mode == 'workers' or mode == 'joint':\n",
    "        m.workhoursEQ = pyo.ConstraintList()\n",
    "        m.workersEQ = pyo.ConstraintList()\n",
    "        \n",
    "        for i in time:\n",
    "            m.workhoursEQ.add(m.overtime[i] + workhours*m.workers[i] >= m.required_hours[i])\n",
    "            m.workhoursEQ.add(m.overtime[i] <= max_overtime * m.workers[i])\n",
    "            \n",
    "        m.workersEQ.add(m.workers[0] == initial_workers + m.hire[0] - m.fire[0])\n",
    "        \n",
    "        for i in range(0,months-1):\n",
    "            m.workersEQ.add(m.workers[i+1] == m.workers[i] + m.hire[i+1] - m.fire[i+1])\n",
    "            \n",
    "        for i in time:\n",
    "            m.workersEQ.add(m.hire[i] <= max_change)\n",
    "            m.workersEQ.add(m.fire[i] <= max_change)\n",
    "    if mode == 'workers':\n",
    "        for i in time:\n",
    "            m.workhoursEQ.add(m.required_hours[i] == \n",
    "                              2* (2*chairs[i] + 3*tables[i] + 3*bedframes[i] + 4*bookcases[i]))\n",
    "    \n",
    "    if mode == 'joint':\n",
    "        for i in time:\n",
    "            m.workhoursEQ.add(m.required_hours[i] == \n",
    "                              2* (2*m.chairs[i] + 3*m.tables[i] + 3*m.bedframes[i] + 4*m.bookcases[i]))\n",
    "    \n",
    "    return m"
   ]
  },
  {
   "cell_type": "markdown",
   "metadata": {},
   "source": [
    "## Model"
   ]
  },
  {
   "cell_type": "code",
   "execution_count": null,
   "metadata": {},
   "outputs": [],
   "source": [
    "def build_model(mode):\n",
    "\n",
    "    # Step 0: Create an instance of the m\n",
    "    m = pyo.ConcreteModel()\n",
    "    m.dual = pyo.Suffix(direction=pyo.Suffix.IMPORT)\n",
    "    \n",
    "    # Step 2: Define the decision varibles\n",
    "\n",
    "    m = add_variables(m,mode)\n",
    "\n",
    "    # Step 3: Define Objective\n",
    "\n",
    "    m = add_objective(m, mode)             \n",
    "\n",
    "    # Step 4: Constraints\n",
    "    m = add_constraints(m, mode) \n",
    "    \n",
    "    results = SolverFactory('glpk').solve(m, tee = True)\n",
    "    print(results)\n",
    "    # use just m.pprint() to print all variables\n",
    "    m.pprint()    \n",
    "    \n",
    "\n",
    "    return m"
   ]
  },
  {
   "cell_type": "code",
   "execution_count": null,
   "metadata": {},
   "outputs": [],
   "source": [
    "prod_m = build_model('production')"
   ]
  },
  {
   "cell_type": "code",
   "execution_count": null,
   "metadata": {},
   "outputs": [],
   "source": [
    "chairs = [pyo.value(prod_m.chairs[i]) for i in time]\n",
    "tables = [pyo.value(prod_m.tables[i]) for i in time]\n",
    "bedframes = [pyo.value(prod_m.bedframes[i]) for i in time]\n",
    "bookcases = [pyo.value(prod_m.bookcases[i]) for i in time]\n"
   ]
  },
  {
   "cell_type": "code",
   "execution_count": null,
   "metadata": {},
   "outputs": [],
   "source": [
    "work_m = build_model('workers')"
   ]
  },
  {
   "cell_type": "code",
   "execution_count": null,
   "metadata": {},
   "outputs": [],
   "source": [
    "joint_m = build_model('joint')"
   ]
  },
  {
   "cell_type": "code",
   "execution_count": null,
   "metadata": {},
   "outputs": [],
   "source": []
  }
 ],
 "metadata": {
  "kernelspec": {
   "display_name": "Python 3 (ipykernel)",
   "language": "python",
   "name": "python3"
  },
  "language_info": {
   "codemirror_mode": {
    "name": "ipython",
    "version": 3
   },
   "file_extension": ".py",
   "mimetype": "text/x-python",
   "name": "python",
   "nbconvert_exporter": "python",
   "pygments_lexer": "ipython3",
   "version": "3.7.11"
  }
 },
 "nbformat": 4,
 "nbformat_minor": 4
}
