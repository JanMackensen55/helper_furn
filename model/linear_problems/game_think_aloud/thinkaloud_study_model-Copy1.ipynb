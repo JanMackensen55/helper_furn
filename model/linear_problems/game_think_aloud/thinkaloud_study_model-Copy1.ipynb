{
 "cells": [
  {
   "cell_type": "markdown",
   "metadata": {},
   "source": [
    "# Think Aloud study  version\n",
    "\n",
    "Month order correspond to online order. We take the subset of Months [1,2,3,5,6,11,12]\n"
   ]
  },
  {
   "cell_type": "code",
   "execution_count": 1,
   "metadata": {},
   "outputs": [],
   "source": [
    "# This is used to import the modules from the experiment folder\n",
    "import os\n",
    "import sys\n",
    "nb_dir = os.path.split(os.getcwd())[0]\n",
    "if nb_dir not in sys.path:\n",
    "    sys.path.append(nb_dir)\n",
    "# First the model builder functionality needs to be imported.\n",
    "from model_builder import Item, ModelBuilder\n",
    "from agents import RandomAgent\n",
    "from pyomo.core.base import (Var, value, Objective)\n",
    "import numpy as np\n",
    "import pandas as pd\n",
    "import seaborn as sns\n",
    "import matplotlib.pyplot as plt"
   ]
  },
  {
   "cell_type": "code",
   "execution_count": 2,
   "metadata": {},
   "outputs": [],
   "source": [
    "def reorder_list(ls, indices):\n",
    "    \"\"\"Reoders a list by the provided list of indices.\n",
    "    The list of indices provides the new order by defining which element shall be put \n",
    "    at the given place.\n",
    "    \n",
    "    Args:\n",
    "        ls (list): the list that should be reordered.\n",
    "        indices (list): a list of indices with the same length as ls.\n",
    "        \n",
    "    Example: \n",
    "    my_list = [1,2,3]\n",
    "    reorder_list(my_list, [2,0,1]) # --> my_list = [3,1,2]\n",
    "    \"\"\"\n",
    "    ls = [ls[x] for x in indices]\n",
    "    return ls\n",
    "\n",
    "\n",
    "\n",
    "\n",
    "def get_subset(subset,itemlist ):\n",
    "    return  [itemlist[x] for x in subset]\n",
    "\n",
    "\n",
    "# reordering from the original order (just for archive) in the cell below there are already the reordered lists\n",
    "#c_profit = reorder_list([2,3,3,2,2,1,2,3,2,2,2,2], indices)\n",
    "#t_profit = reorder_list([4,4,4,5,4,3,4,5,4,4,3,3], indices)\n",
    "#book_profit = reorder_list([7,7,5,5,3,5,4,4,5,4,5,6], indices)\n",
    "#bed_profit = reorder_list([7,8,10,8,6,7,7,8,10,9,7,10], indices)\n",
    "#wood_order = reorder_list([200, 300, 457, 372, 322, 432, 413, 406, 377, 412, 395, 366],indices)\n",
    "#metal_order = reorder_list([463, 168, 773, 380, 353, 391, 392, 473, 370, 350, 351, 293], indices)\n",
    "#indices = [6,1,4,3,2,5,0,10,8,9,7,11]\n",
    "#reorder_list([200, 300, 457, 372, 322, 432, 413, 406, 377, 412, 395, 366],indices)"
   ]
  },
  {
   "cell_type": "code",
   "execution_count": 3,
   "metadata": {},
   "outputs": [],
   "source": [
    "# These values are needed to build the model\n",
    "factor_resources = 2\n",
    "indices = [6,1,4,3,2,5,0,10,8,9,7,11] # Lists have been reordered by request. Remove the method calls if you want to\n",
    "# change the order freely. It just could save time if you want to change specific months.\n",
    "# define the profit per month for each item:\n",
    "#subset_months = [0,1,2,4,5,10,11] (original subset for choice)\n",
    "subset_months_group1 = [0,4,5,10,1,2,11]\n",
    "subset_months_group2 = [0,10,11,4,2,1,5]\n",
    "\n",
    "def calc_model(subset, factor_resources, model_name):\n",
    "    chair_profit =    get_subset(subset, [2, 3, 2, 2, 3, 1, 2, 2, 2, 2, 3, 2])\n",
    "    table_profit =    get_subset(subset, [4, 4, 4, 5, 4, 3, 4, 3, 4, 4, 5, 3])\n",
    "    bed_profit =      get_subset(subset, [4, 7, 3, 5, 5, 5, 7, 5, 5, 4, 4, 6] )\n",
    "    bookcase_profit = get_subset(subset, [7, 8, 6, 8, 10, 7, 7, 7, 10, 9, 8, 10])\n",
    "\n",
    "\n",
    "\n",
    "    # define the items:\n",
    "    chair = Item(costs_wood=4,costs_metal=1,costs_time_one=4,costs_time_two=1,profit=chair_profit)\n",
    "    table = Item(2,5,4,6,table_profit)\n",
    "    bed = Item(4,3,3,4, bed_profit)\n",
    "    bookcase = Item(5,7,5,3,bookcase_profit)\n",
    "    # Making calculations for one year\n",
    "    months = 12\n",
    "    # specifying available materials\n",
    "    avail_hours_a = 26*factor_resources\n",
    "    avail_hours_b = 30*factor_resources\n",
    "    avail_hours_c = 23*factor_resources\n",
    "    avail_hours_d = 26*factor_resources\n",
    "\n",
    "    avail_wood_raw = list(map(lambda i: round(i/4), [413, 300, 322, 372, 457, 432, 200, 395, 377, 412, 406, 366]))\n",
    "    avail_metal_raw = list(map(lambda i: round(i/4), [392, 168, 353, 380, 773, 391, 463, 351, 370, 350, 473, 293]))\n",
    "\n",
    "    avail_wood = get_subset(subset,avail_wood_raw)\n",
    "    avail_metal = get_subset(subset,avail_metal_raw)\n",
    "    \n",
    "    plt.figure(figsize=(10, 5), dpi=80)\n",
    "    df_res = pd.DataFrame( {'wood': avail_wood, 'metal' : avail_metal, 'wsA': avail_hours_a})\n",
    "    df_res['month'] = df_res.index+1\n",
    "    df_res = df_res.melt(id_vars = ['month'],value_vars = ['wood', 'metal', 'wsA'])\n",
    "    #df_res['month'] = df_res.index\n",
    "\n",
    "    sns.barplot(data = df_res, x='month', y='value', hue = 'variable')\n",
    "    # Set up the model builder: \n",
    "    model_builder = ModelBuilder(months=len(subset),avail_wood=avail_wood, avail_metal=avail_metal \n",
    "                            , avail_hours_a=avail_hours_a,avail_hours_b=avail_hours_b\n",
    "                            , avail_hours_c=avail_hours_c,avail_hours_d=avail_hours_d\n",
    "                            , chair=chair,table=table, bed=bed, bookcase=bookcase, continuous = True)\n",
    "    # build the model:\n",
    "    model = model_builder.build_model()\n",
    "    #model_builder.save_model(model_name)\n",
    "    a = RandomAgent(model,len(subset))\n",
    "    a.simulate_year()\n",
    "    #a.optimal_solution.save_solution(model_name+'_solution')\n",
    "    return model"
   ]
  },
  {
   "cell_type": "code",
   "execution_count": 4,
   "metadata": {},
   "outputs": [
    {
     "name": "stdout",
     "output_type": "stream",
     "text": [
      "GLPSOL: GLPK LP/MIP Solver, v4.65\n",
      "Parameter(s) specified in the command line:\n",
      " --write /tmp/tmptwjeq4dg.glpk.raw --wglp /tmp/tmpcvimxkg2.glpk.glp --cpxlp\n",
      " /tmp/tmpbbo2w81i.pyomo.lp\n",
      "Reading problem data from '/tmp/tmpbbo2w81i.pyomo.lp'...\n",
      "43 rows, 29 columns, 113 non-zeros\n",
      "306 lines were read\n",
      "Writing problem data to '/tmp/tmpcvimxkg2.glpk.glp'...\n",
      "259 lines were written\n",
      "GLPK Simplex Optimizer, v4.65\n",
      "43 rows, 29 columns, 113 non-zeros\n",
      "Preprocessing...\n",
      "42 rows, 28 columns, 112 non-zeros\n",
      "Scaling...\n",
      " A: min|aij| =  1.000e+00  max|aij| =  7.000e+00  ratio =  7.000e+00\n",
      "Problem data seem to be well scaled\n",
      "Constructing initial basis...\n",
      "Size of triangular part is 42\n",
      "*     0: obj =  -0.000000000e+00 inf =   0.000e+00 (28)\n",
      "*    27: obj =   7.809914736e+02 inf =   0.000e+00 (0)\n",
      "OPTIMAL LP SOLUTION FOUND\n",
      "Time used:   0.0 secs\n",
      "Memory used: 0.1 Mb (84871 bytes)\n",
      "Writing basic solution to '/tmp/tmptwjeq4dg.glpk.raw'...\n",
      "81 lines were written\n"
     ]
    },
    {
     "data": {
      "image/png": "[encoded data removed]",
      "text/plain": [
       "<Figure size 800x400 with 1 Axes>"
      ]
     },
     "metadata": {
      "needs_background": "light"
     },
     "output_type": "display_data"
    }
   ],
   "source": [
    "modelname = 'thinkaloud_model'\n",
    "group1 = calc_model(subset_months_group1, factor_resources, modelname+'_group1')\n"
   ]
  },
  {
   "cell_type": "code",
   "execution_count": 34,
   "metadata": {},
   "outputs": [],
   "source": [
    "def solution(m):\n",
    "    x = []\n",
    "    for v in m.component_objects(Var, active=True):\n",
    "        l = []\n",
    "        print(v.name)\n",
    "        for index in v:\n",
    "            l.append(np.round(v[index].value,2))\n",
    "        x.append(l)\n",
    "    return x"
   ]
  },
  {
   "cell_type": "code",
   "execution_count": 35,
   "metadata": {},
   "outputs": [
    {
     "name": "stdout",
     "output_type": "stream",
     "text": [
      "GLPSOL: GLPK LP/MIP Solver, v4.65\n",
      "Parameter(s) specified in the command line:\n",
      " --write /tmp/tmpupn4okae.glpk.raw --wglp /tmp/tmp2lpcqbm1.glpk.glp --cpxlp\n",
      " /tmp/tmp5xzj_l0s.pyomo.lp\n",
      "Reading problem data from '/tmp/tmp5xzj_l0s.pyomo.lp'...\n",
      "43 rows, 29 columns, 113 non-zeros\n",
      "306 lines were read\n",
      "Writing problem data to '/tmp/tmp2lpcqbm1.glpk.glp'...\n",
      "259 lines were written\n",
      "GLPK Simplex Optimizer, v4.65\n",
      "43 rows, 29 columns, 113 non-zeros\n",
      "Preprocessing...\n",
      "42 rows, 28 columns, 112 non-zeros\n",
      "Scaling...\n",
      " A: min|aij| =  1.000e+00  max|aij| =  7.000e+00  ratio =  7.000e+00\n",
      "Problem data seem to be well scaled\n",
      "Constructing initial basis...\n",
      "Size of triangular part is 42\n",
      "*     0: obj =  -0.000000000e+00 inf =   0.000e+00 (28)\n",
      "*    27: obj =   7.809914736e+02 inf =   0.000e+00 (0)\n",
      "OPTIMAL LP SOLUTION FOUND\n",
      "Time used:   0.0 secs\n",
      "Memory used: 0.1 Mb (84871 bytes)\n",
      "Writing basic solution to '/tmp/tmpupn4okae.glpk.raw'...\n",
      "81 lines were written\n"
     ]
    },
    {
     "data": {
      "image/png": "[encoded data removed]",
      "text/plain": [
       "<Figure size 800x400 with 1 Axes>"
      ]
     },
     "metadata": {
      "needs_background": "light"
     },
     "output_type": "display_data"
    }
   ],
   "source": [
    "modelname = 'thinkaloud_model'\n",
    "\n",
    "group2 = calc_model(subset_months_group2, factor_resources, modelname+'_group2')\n"
   ]
  },
  {
   "cell_type": "code",
   "execution_count": 36,
   "metadata": {},
   "outputs": [
    {
     "data": {
      "text/plain": [
       "780.9914735591209"
      ]
     },
     "execution_count": 36,
     "metadata": {},
     "output_type": "execute_result"
    }
   ],
   "source": [
    "value(group1.cost)"
   ]
  },
  {
   "cell_type": "code",
   "execution_count": 37,
   "metadata": {},
   "outputs": [
    {
     "data": {
      "text/plain": [
       "780.991473559121"
      ]
     },
     "execution_count": 37,
     "metadata": {},
     "output_type": "execute_result"
    }
   ],
   "source": [
    "value(group2.cost)"
   ]
  },
  {
   "cell_type": "code",
   "execution_count": 38,
   "metadata": {},
   "outputs": [
    {
     "name": "stdout",
     "output_type": "stream",
     "text": [
      "bedframes\n",
      "bookcases\n",
      "tables\n",
      "chairs\n"
     ]
    },
    {
     "data": {
      "text/plain": [
       "[[11.09, 0.0, 11.09, 0.0, 11.62, 0.0, 11.09],\n",
       " [2.55, 9.2, 2.55, 9.2, 0.0, 7.71, 2.55],\n",
       " [8.48, 9.4, 8.48, 9.4, 0.0, 5.26, 2.93],\n",
       " [4.52, 3.6, 4.52, 3.6, 7.12, 7.74, 7.26]]"
      ]
     },
     "execution_count": 38,
     "metadata": {},
     "output_type": "execute_result"
    }
   ],
   "source": [
    "solution(group1)"
   ]
  },
  {
   "cell_type": "code",
   "execution_count": null,
   "metadata": {},
   "outputs": [],
   "source": [
    "chairs:  [ 3.6,  4.52,  3.6,  7.12, 7.74,  7.26] \n",
    "tables:  [ 9.4,  8.48,  9.4,  0.0,  5.26,  2.93],\n",
    "books:   [ 9.2,  2.55,  9.2,  0.0,  7.71,  2.55],\n",
    "beds:    [ 0.0, 11.09,  0.0, 11.62, 0.0,  11.09],"
   ]
  },
  {
   "cell_type": "code",
   "execution_count": 28,
   "metadata": {},
   "outputs": [
    {
     "data": {
      "text/plain": [
       "[[11.09, 0.0, 11.09, 0.0, 0.0, 11.62, 11.09],\n",
       " [2.55, 9.2, 2.55, 9.2, 7.71, 0.0, 2.55],\n",
       " [8.48, 9.4, 2.93, 9.4, 5.26, 0.0, 8.48],\n",
       " [4.52, 3.6, 7.26, 3.6, 7.74, 7.12, 4.52]]"
      ]
     },
     "execution_count": 28,
     "metadata": {},
     "output_type": "execute_result"
    }
   ],
   "source": [
    "solution(group2)"
   ]
  },
  {
   "cell_type": "code",
   "execution_count": 11,
   "metadata": {},
   "outputs": [
    {
     "name": "stdout",
     "output_type": "stream",
     "text": [
      "GLPSOL: GLPK LP/MIP Solver, v4.65\n",
      "Parameter(s) specified in the command line:\n",
      " --write /tmp/tmpiwcoayci.glpk.raw --wglp /tmp/tmp4wkyxqey.glpk.glp --cpxlp\n",
      " /tmp/tmpds8rixfq.pyomo.lp\n",
      "Reading problem data from '/tmp/tmpds8rixfq.pyomo.lp'...\n",
      "73 rows, 49 columns, 193 non-zeros\n",
      "516 lines were read\n",
      "Writing problem data to '/tmp/tmp4wkyxqey.glpk.glp'...\n",
      "439 lines were written\n",
      "GLPK Simplex Optimizer, v4.65\n",
      "73 rows, 49 columns, 193 non-zeros\n",
      "Preprocessing...\n",
      "72 rows, 48 columns, 192 non-zeros\n",
      "Scaling...\n",
      " A: min|aij| =  1.000e+00  max|aij| =  7.000e+00  ratio =  7.000e+00\n",
      "Problem data seem to be well scaled\n",
      "Constructing initial basis...\n",
      "Size of triangular part is 72\n",
      "*     0: obj =  -0.000000000e+00 inf =   0.000e+00 (48)\n",
      "*    46: obj =   1.343041474e+03 inf =   0.000e+00 (0)\n",
      "OPTIMAL LP SOLUTION FOUND\n",
      "Time used:   0.0 secs\n",
      "Memory used: 0.1 Mb (125587 bytes)\n",
      "Writing basic solution to '/tmp/tmpiwcoayci.glpk.raw'...\n",
      "131 lines were written\n"
     ]
    },
    {
     "data": {
      "text/plain": [
       "<pyomo.core.base.PyomoModel.ConcreteModel at 0x7f906041f180>"
      ]
     },
     "execution_count": 11,
     "metadata": {},
     "output_type": "execute_result"
    },
    {
     "data": {
      "image/png": "[encoded data removed]",
      "text/plain": [
       "<Figure size 800x400 with 1 Axes>"
      ]
     },
     "metadata": {
      "needs_background": "light"
     },
     "output_type": "display_data"
    }
   ],
   "source": [
    "modelname = 'thinkaloud_model'\n",
    "calc_model([0,1,2,3,4,5,6,7,8,9,10,11], factor_resources, modelname+'_all_months')\n"
   ]
  },
  {
   "cell_type": "code",
   "execution_count": null,
   "metadata": {},
   "outputs": [],
   "source": []
  }
 ],
 "metadata": {
  "kernelspec": {
   "display_name": "Python 3 (ipykernel)",
   "language": "python",
   "name": "python3"
  },
  "language_info": {
   "codemirror_mode": {
    "name": "ipython",
    "version": 3
   },
   "file_extension": ".py",
   "mimetype": "text/x-python",
   "name": "python",
   "nbconvert_exporter": "python",
   "pygments_lexer": "ipython3",
   "version": "3.7.11"
  }
 },
 "nbformat": 4,
 "nbformat_minor": 4
}
