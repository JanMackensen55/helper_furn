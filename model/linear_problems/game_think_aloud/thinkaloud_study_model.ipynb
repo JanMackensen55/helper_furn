{
 "cells": [
  {
   "cell_type": "markdown",
   "metadata": {},
   "source": [
    "# Think Aloud study  version\n",
    "\n",
    "Month order correspond to online order. We take the subset of Months [1,2,3,5,6,11,12]\n"
   ]
  },
  {
   "cell_type": "code",
   "execution_count": 1,
   "metadata": {},
   "outputs": [],
   "source": [
    "# This is used to import the modules from the experiment folder\n",
    "import os\n",
    "import sys\n",
    "nb_dir = os.path.split(os.getcwd())[0]\n",
    "if nb_dir not in sys.path:\n",
    "    sys.path.append(nb_dir)\n",
    "# First the model builder functionality needs to be imported.\n",
    "from model_builder import Item, ModelBuilder\n",
    "from agents import RandomAgent\n",
    "import numpy as np\n",
    "import pandas as pd\n",
    "import seaborn as sns\n",
    "import matplotlib.pyplot as plt"
   ]
  },
  {
   "cell_type": "code",
   "execution_count": 2,
   "metadata": {},
   "outputs": [],
   "source": [
    "def reorder_list(ls, indices):\n",
    "    \"\"\"Reoders a list by the provided list of indices.\n",
    "    The list of indices provides the new order by defining which element shall be put \n",
    "    at the given place.\n",
    "    \n",
    "    Args:\n",
    "        ls (list): the list that should be reordered.\n",
    "        indices (list): a list of indices with the same length as ls.\n",
    "        \n",
    "    Example: \n",
    "    my_list = [1,2,3]\n",
    "    reorder_list(my_list, [2,0,1]) # --> my_list = [3,1,2]\n",
    "    \"\"\"\n",
    "    ls = [ls[x] for x in indices]\n",
    "    return ls\n",
    "\n",
    "\n",
    "\n",
    "\n",
    "def get_subset(subset,itemlist ):\n",
    "    return  [itemlist[x] for x in subset]\n",
    "\n",
    "\n",
    "# reordering from the original order (just for archive) in the cell below there are already the reordered lists\n",
    "#c_profit = reorder_list([2,3,3,2,2,1,2,3,2,2,2,2], indices)\n",
    "#t_profit = reorder_list([4,4,4,5,4,3,4,5,4,4,3,3], indices)\n",
    "#book_profit = reorder_list([7,7,5,5,3,5,4,4,5,4,5,6], indices)\n",
    "#bed_profit = reorder_list([7,8,10,8,6,7,7,8,10,9,7,10], indices)\n",
    "#wood_order = reorder_list([200, 300, 457, 372, 322, 432, 413, 406, 377, 412, 395, 366],indices)\n",
    "#metal_order = reorder_list([463, 168, 773, 380, 353, 391, 392, 473, 370, 350, 351, 293], indices)\n",
    "#indices = [6,1,4,3,2,5,0,10,8,9,7,11]\n",
    "#reorder_list([200, 300, 457, 372, 322, 432, 413, 406, 377, 412, 395, 366],indices)"
   ]
  },
  {
   "cell_type": "code",
   "execution_count": 3,
   "metadata": {},
   "outputs": [],
   "source": [
    "# These values are needed to build the model\n",
    "factor_resources = 2\n",
    "indices = [6,1,4,3,2,5,0,10,8,9,7,11] # Lists have been reordered by request. Remove the method calls if you want to\n",
    "# change the order freely. It just could save time if you want to change specific months.\n",
    "# define the profit per month for each item:\n",
    "#subset_months = [0,1,2,4,5,10,11] (original subset for choice)\n",
    "subset_months_group1 = [0,4,5,10,1,2,11]\n",
    "subset_months_group2 = [0,10,11,4,2,1,5]\n",
    "\n",
    "def calc_model(subset, factor_resources, model_name):\n",
    "    chair_profit =    get_subset(subset, [2, 3, 2, 2, 3, 1, 2, 2, 2, 2, 3, 2])\n",
    "    table_profit =    get_subset(subset, [4, 4, 4, 5, 4, 3, 4, 3, 4, 4, 5, 3])\n",
    "    bed_profit =      get_subset(subset, [4, 7, 3, 5, 5, 5, 7, 5, 5, 4, 4, 6] )\n",
    "    bookcase_profit = get_subset(subset, [7, 8, 6, 8, 10, 7, 7, 7, 10, 9, 8, 10])\n",
    "\n",
    "\n",
    "\n",
    "    # define the items:\n",
    "    chair = Item(costs_wood=4,costs_metal=1,costs_time_one=4,costs_time_two=1,profit=chair_profit)\n",
    "    table = Item(2,5,4,6,table_profit)\n",
    "    bed = Item(4,3,3,4, bed_profit)\n",
    "    bookcase = Item(5,7,5,3,bookcase_profit)\n",
    "    # Making calculations for one year\n",
    "    months = 12\n",
    "    # specifying available materials\n",
    "    avail_hours_a = 26*factor_resources\n",
    "    avail_hours_b = 30*factor_resources\n",
    "    avail_hours_c = 23*factor_resources\n",
    "    avail_hours_d = 26*factor_resources\n",
    "\n",
    "    avail_wood_raw = list(map(lambda i: round(i/4), [413, 300, 322, 372, 457, 432, 200, 395, 377, 412, 406, 366]))\n",
    "    avail_metal_raw = list(map(lambda i: round(i/4), [392, 168, 353, 380, 773, 391, 463, 351, 370, 350, 473, 293]))\n",
    "\n",
    "    avail_wood = get_subset(subset,avail_wood_raw)\n",
    "    avail_metal = get_subset(subset,avail_metal_raw)\n",
    "    \n",
    "    plt.figure(figsize=(10, 5), dpi=80)\n",
    "    df_res = pd.DataFrame( {'wood': avail_wood, 'metal' : avail_metal, 'wsA': avail_hours_a})\n",
    "    df_res['month'] = df_res.index+1\n",
    "    df_res = df_res.melt(id_vars = ['month'],value_vars = ['wood', 'metal', 'wsA'])\n",
    "    #df_res['month'] = df_res.index\n",
    "\n",
    "    sns.barplot(data = df_res, x='month', y='value', hue = 'variable')\n",
    "    # Set up the model builder: \n",
    "    model_builder = ModelBuilder(months=len(subset),avail_wood=avail_wood, avail_metal=avail_metal \n",
    "                            , avail_hours_a=avail_hours_a,avail_hours_b=avail_hours_b\n",
    "                            , avail_hours_c=avail_hours_c,avail_hours_d=avail_hours_d\n",
    "                            , chair=chair,table=table, bed=bed, bookcase=bookcase)\n",
    "    # build the model:\n",
    "    model = model_builder.build_model()\n",
    "    model_builder.save_model(model_name)\n",
    "    a = RandomAgent(model,len(subset))\n",
    "    a.simulate_year()\n",
    "    a.optimal_solution.save_solution(model_name+'_solution')\n",
    "    return model"
   ]
  },
  {
   "cell_type": "code",
   "execution_count": 18,
   "metadata": {},
   "outputs": [
    {
     "name": "stdout",
     "output_type": "stream",
     "text": [
      "GLPSOL: GLPK LP/MIP Solver, v4.65\n",
      "Parameter(s) specified in the command line:\n",
      " --write /tmp/tmp9jxvdzca.glpk.raw --wglp /tmp/tmp7q3c2h5n.glpk.glp --cpxlp\n",
      " /tmp/tmp6y8hylr9.pyomo.lp\n",
      "Reading problem data from '/tmp/tmp6y8hylr9.pyomo.lp'...\n",
      "43 rows, 29 columns, 113 non-zeros\n",
      "28 integer variables, none of which are binary\n",
      "335 lines were read\n",
      "Writing problem data to '/tmp/tmp7q3c2h5n.glpk.glp'...\n",
      "288 lines were written\n",
      "GLPK Integer Optimizer, v4.65\n",
      "43 rows, 29 columns, 113 non-zeros\n",
      "28 integer variables, none of which are binary\n",
      "Preprocessing...\n",
      "41 rows, 28 columns, 108 non-zeros\n",
      "28 integer variables, none of which are binary\n",
      "Scaling...\n",
      " A: min|aij| =  1.000e+00  max|aij| =  7.000e+00  ratio =  7.000e+00\n",
      "Problem data seem to be well scaled\n",
      "Constructing initial basis...\n",
      "Size of triangular part is 41\n",
      "Solving LP relaxation...\n",
      "GLPK Simplex Optimizer, v4.65\n",
      "41 rows, 28 columns, 108 non-zeros\n",
      "*     0: obj =  -0.000000000e+00 inf =   0.000e+00 (28)\n",
      "*    35: obj =   7.803914736e+02 inf =   0.000e+00 (0)\n",
      "OPTIMAL LP SOLUTION FOUND\n",
      "Integer optimization begins...\n",
      "Long-step dual simplex will be used\n",
      "+    35: mip =     not found yet <=              +inf        (1; 0)\n",
      "Solution found by heuristic: 760\n",
      "Solution found by heuristic: 763\n",
      "Solution found by heuristic: 764\n",
      "+   236: >>>>>   7.660000000e+02 <=   7.740000000e+02   1.0% (168; 13)\n",
      "+   514: >>>>>   7.680000000e+02 <=   7.710000000e+02   0.4% (279; 200)\n",
      "+  1126: mip =   7.680000000e+02 <=     tree is empty   0.0% (0; 1029)\n",
      "INTEGER OPTIMAL SOLUTION FOUND\n",
      "Time used:   0.2 secs\n",
      "Memory used: 0.2 Mb (253526 bytes)\n",
      "Writing MIP solution to '/tmp/tmp9jxvdzca.glpk.raw'...\n",
      "81 lines were written\n"
     ]
    },
    {
     "data": {
      "text/plain": [
       "<pyomo.core.base.PyomoModel.ConcreteModel at 0x7f34850d3640>"
      ]
     },
     "execution_count": 18,
     "metadata": {},
     "output_type": "execute_result"
    },
    {
     "data": {
      "image/png": "[encoded data removed]",
      "text/plain": [
       "<Figure size 800x400 with 1 Axes>"
      ]
     },
     "metadata": {
      "needs_background": "light"
     },
     "output_type": "display_data"
    }
   ],
   "source": [
    "modelname = 'thinkaloud_model'\n",
    "calc_model(subset_months_group1, factor_resources, modelname+'_group1')\n"
   ]
  },
  {
   "cell_type": "code",
   "execution_count": 5,
   "metadata": {},
   "outputs": [
    {
     "name": "stdout",
     "output_type": "stream",
     "text": [
      "GLPSOL: GLPK LP/MIP Solver, v4.65\n",
      "Parameter(s) specified in the command line:\n",
      " --write /tmp/tmp725qywvg.glpk.raw --wglp /tmp/tmp9xrl8yql.glpk.glp --cpxlp\n",
      " /tmp/tmp4zgu2hyj.pyomo.lp\n",
      "Reading problem data from '/tmp/tmp4zgu2hyj.pyomo.lp'...\n",
      "43 rows, 29 columns, 113 non-zeros\n",
      "28 integer variables, none of which are binary\n",
      "335 lines were read\n",
      "Writing problem data to '/tmp/tmp9xrl8yql.glpk.glp'...\n",
      "288 lines were written\n",
      "GLPK Integer Optimizer, v4.65\n",
      "43 rows, 29 columns, 113 non-zeros\n",
      "28 integer variables, none of which are binary\n",
      "Preprocessing...\n",
      "41 rows, 28 columns, 108 non-zeros\n",
      "28 integer variables, none of which are binary\n",
      "Scaling...\n",
      " A: min|aij| =  1.000e+00  max|aij| =  7.000e+00  ratio =  7.000e+00\n",
      "Problem data seem to be well scaled\n",
      "Constructing initial basis...\n",
      "Size of triangular part is 41\n",
      "Solving LP relaxation...\n",
      "GLPK Simplex Optimizer, v4.65\n",
      "41 rows, 28 columns, 108 non-zeros\n",
      "*     0: obj =  -0.000000000e+00 inf =   0.000e+00 (28)\n",
      "*    35: obj =   7.803914736e+02 inf =   0.000e+00 (0)\n",
      "OPTIMAL LP SOLUTION FOUND\n",
      "Integer optimization begins...\n",
      "Long-step dual simplex will be used\n",
      "+    35: mip =     not found yet <=              +inf        (1; 0)\n",
      "Solution found by heuristic: 760\n",
      "Solution found by heuristic: 763\n",
      "Solution found by heuristic: 764\n",
      "+   256: >>>>>   7.660000000e+02 <=   7.740000000e+02   1.0% (186; 14)\n",
      "+   583: >>>>>   7.680000000e+02 <=   7.710000000e+02   0.4% (322; 228)\n",
      "+  1187: mip =   7.680000000e+02 <=     tree is empty   0.0% (0; 1133)\n",
      "INTEGER OPTIMAL SOLUTION FOUND\n",
      "Time used:   0.0 secs\n",
      "Memory used: 0.3 Mb (279830 bytes)\n",
      "Writing MIP solution to '/tmp/tmp725qywvg.glpk.raw'...\n",
      "81 lines were written\n"
     ]
    },
    {
     "data": {
      "text/plain": [
       "<pyomo.core.base.PyomoModel.ConcreteModel at 0x7f35940e8730>"
      ]
     },
     "execution_count": 5,
     "metadata": {},
     "output_type": "execute_result"
    },
    {
     "data": {
      "image/png": "[encoded data removed]",
      "text/plain": [
       "<Figure size 800x400 with 1 Axes>"
      ]
     },
     "metadata": {
      "needs_background": "light"
     },
     "output_type": "display_data"
    }
   ],
   "source": [
    "modelname = 'thinkaloud_model'\n",
    "\n",
    "calc_model(subset_months_group2, factor_resources, modelname+'_group2')\n"
   ]
  },
  {
   "cell_type": "code",
   "execution_count": 8,
   "metadata": {},
   "outputs": [
    {
     "name": "stdout",
     "output_type": "stream",
     "text": [
      "GLPSOL: GLPK LP/MIP Solver, v4.65\n",
      "Parameter(s) specified in the command line:\n",
      " --write /tmp/tmpru6smxuy.glpk.raw --wglp /tmp/tmpa6qfq60i.glpk.glp --cpxlp\n",
      " /tmp/tmpc62g2kps.pyomo.lp\n",
      "Reading problem data from '/tmp/tmpc62g2kps.pyomo.lp'...\n",
      "73 rows, 49 columns, 193 non-zeros\n",
      "48 integer variables, none of which are binary\n",
      "565 lines were read\n",
      "Writing problem data to '/tmp/tmpa6qfq60i.glpk.glp'...\n",
      "488 lines were written\n",
      "GLPK Integer Optimizer, v4.65\n",
      "73 rows, 49 columns, 193 non-zeros\n",
      "48 integer variables, none of which are binary\n",
      "Preprocessing...\n",
      "71 rows, 48 columns, 188 non-zeros\n",
      "48 integer variables, none of which are binary\n",
      "Scaling...\n",
      " A: min|aij| =  1.000e+00  max|aij| =  7.000e+00  ratio =  7.000e+00\n",
      "Problem data seem to be well scaled\n",
      "Constructing initial basis...\n",
      "Size of triangular part is 71\n",
      "Solving LP relaxation...\n",
      "GLPK Simplex Optimizer, v4.65\n",
      "71 rows, 48 columns, 188 non-zeros\n",
      "*     0: obj =  -0.000000000e+00 inf =   0.000e+00 (48)\n",
      "*    61: obj =   1.342041474e+03 inf =   1.776e-15 (0)\n",
      "OPTIMAL LP SOLUTION FOUND\n",
      "Integer optimization begins...\n",
      "Long-step dual simplex will be used\n",
      "+    61: mip =     not found yet <=              +inf        (1; 0)\n",
      "Solution found by heuristic: 1313\n",
      "Solution found by heuristic: 1316\n",
      "Solution found by heuristic: 1317\n",
      "+   100: >>>>>   1.319000000e+03 <=   1.339000000e+03   1.5% (42; 0)\n",
      "+ 24711: >>>>>   1.320000000e+03 <=   1.327000000e+03   0.5% (17079; 1835)\n",
      "+ 37123: mip =   1.320000000e+03 <=   1.327000000e+03   0.5% (21930; 5943)\n",
      "+ 46643: mip =   1.320000000e+03 <=   1.326000000e+03   0.5% (26870; 6880)\n",
      "+ 53726: mip =   1.320000000e+03 <=   1.326000000e+03   0.5% (29664; 7732)\n",
      "+ 61400: mip =   1.320000000e+03 <=   1.326000000e+03   0.5% (33303; 8458)\n",
      "+ 68402: mip =   1.320000000e+03 <=   1.326000000e+03   0.5% (36239; 9143)\n",
      "+ 74908: mip =   1.320000000e+03 <=   1.326000000e+03   0.5% (39301; 9772)\n",
      "+ 80422: mip =   1.320000000e+03 <=   1.326000000e+03   0.5% (42022; 10352)\n",
      "+ 84654: mip =   1.320000000e+03 <=   1.325000000e+03   0.4% (44491; 10893)\n",
      "+ 85733: >>>>>   1.322000000e+03 <=   1.325000000e+03   0.2% (44718; 11052)\n",
      "+ 88306: mip =   1.322000000e+03 <=   1.325000000e+03   0.2% (27836; 42317)\n",
      "+ 92010: mip =   1.322000000e+03 <=   1.325000000e+03   0.2% (27946; 43059)\n",
      "Time used: 60.0 secs.  Memory used: 25.8 Mb.\n",
      "+ 96013: mip =   1.322000000e+03 <=   1.325000000e+03   0.2% (28505; 43783)\n",
      "+ 98515: mip =   1.322000000e+03 <=   1.325000000e+03   0.2% (28699; 44520)\n",
      "+103135: mip =   1.322000000e+03 <=   1.325000000e+03   0.2% (29922; 45183)\n",
      "+106961: mip =   1.322000000e+03 <=   1.325000000e+03   0.2% (30647; 45859)\n",
      "+109859: mip =   1.322000000e+03 <=   1.325000000e+03   0.2% (31012; 46465)\n",
      "+112578: mip =   1.322000000e+03 <=   1.325000000e+03   0.2% (31452; 47075)\n",
      "+115183: mip =   1.322000000e+03 <=   1.325000000e+03   0.2% (32109; 47682)\n",
      "+118057: mip =   1.322000000e+03 <=   1.325000000e+03   0.2% (32993; 48306)\n",
      "+120314: mip =   1.322000000e+03 <=   1.325000000e+03   0.2% (33299; 48928)\n",
      "+122546: mip =   1.322000000e+03 <=   1.325000000e+03   0.2% (33830; 49523)\n",
      "+124459: mip =   1.322000000e+03 <=   1.325000000e+03   0.2% (34089; 50106)\n",
      "+125971: mip =   1.322000000e+03 <=   1.324000000e+03   0.2% (33772; 50947)\n",
      "Time used: 120.0 secs.  Memory used: 26.0 Mb.\n",
      "+127135: mip =   1.322000000e+03 <=   1.324000000e+03   0.2% (33423; 51652)\n",
      "+128427: mip =   1.322000000e+03 <=   1.324000000e+03   0.2% (32935; 52748)\n",
      "+129941: mip =   1.322000000e+03 <=   1.324000000e+03   0.2% (32595; 53368)\n",
      "+131833: mip =   1.322000000e+03 <=   1.324000000e+03   0.2% (31993; 54446)\n",
      "+133071: mip =   1.322000000e+03 <=   1.324000000e+03   0.2% (31461; 55105)\n",
      "+134595: mip =   1.322000000e+03 <=   1.324000000e+03   0.2% (31031; 55691)\n",
      "+136615: mip =   1.322000000e+03 <=   1.324000000e+03   0.2% (30744; 56353)\n",
      "+138514: mip =   1.322000000e+03 <=   1.324000000e+03   0.2% (30111; 56994)\n",
      "+139872: mip =   1.322000000e+03 <=   1.324000000e+03   0.2% (29728; 57979)\n",
      "+142271: mip =   1.322000000e+03 <=   1.324000000e+03   0.2% (29570; 58916)\n",
      "+143940: mip =   1.322000000e+03 <=   1.324000000e+03   0.2% (29230; 59840)\n",
      "+145609: mip =   1.322000000e+03 <=   1.324000000e+03   0.2% (28982; 60520)\n",
      "Time used: 180.0 secs.  Memory used: 26.0 Mb.\n",
      "+147654: mip =   1.322000000e+03 <=   1.324000000e+03   0.2% (28894; 61190)\n",
      "+150774: mip =   1.322000000e+03 <=   1.324000000e+03   0.2% (28892; 61818)\n",
      "+152534: mip =   1.322000000e+03 <=   1.324000000e+03   0.2% (28856; 62479)\n",
      "+154748: mip =   1.322000000e+03 <=   1.324000000e+03   0.2% (28890; 63098)\n",
      "+155927: mip =   1.322000000e+03 <=   1.324000000e+03   0.2% (28526; 64049)\n",
      "+157403: mip =   1.322000000e+03 <=   1.324000000e+03   0.2% (28293; 64872)\n",
      "+159297: mip =   1.322000000e+03 <=   1.324000000e+03   0.2% (28135; 65579)\n",
      "+160944: mip =   1.322000000e+03 <=   1.324000000e+03   0.2% (27680; 66621)\n",
      "+162355: mip =   1.322000000e+03 <=   1.324000000e+03   0.2% (27416; 67496)\n",
      "+164295: mip =   1.322000000e+03 <=   1.324000000e+03   0.2% (27399; 68244)\n",
      "+165878: mip =   1.322000000e+03 <=   1.324000000e+03   0.2% (27124; 69043)\n",
      "+167605: mip =   1.322000000e+03 <=   1.324000000e+03   0.2% (26755; 69795)\n",
      "Time used: 240.0 secs.  Memory used: 26.5 Mb.\n",
      "+169202: mip =   1.322000000e+03 <=   1.324000000e+03   0.2% (26403; 70708)\n",
      "+170646: mip =   1.322000000e+03 <=   1.324000000e+03   0.2% (25995; 71576)\n",
      "+172076: mip =   1.322000000e+03 <=   1.324000000e+03   0.2% (25570; 72443)\n",
      "+173207: mip =   1.322000000e+03 <=   1.323000000e+03 < 0.1% (24968; 74163)\n",
      "+174257: mip =   1.322000000e+03 <=   1.323000000e+03 < 0.1% (24275; 76210)\n",
      "+175747: mip =   1.322000000e+03 <=   1.323000000e+03 < 0.1% (23508; 77812)\n",
      "+176987: mip =   1.322000000e+03 <=   1.323000000e+03 < 0.1% (22724; 80062)\n",
      "+178195: mip =   1.322000000e+03 <=   1.323000000e+03 < 0.1% (21943; 82302)\n",
      "+179944: mip =   1.322000000e+03 <=   1.323000000e+03 < 0.1% (21173; 85457)\n",
      "+181659: mip =   1.322000000e+03 <=   1.323000000e+03 < 0.1% (20301; 87718)\n",
      "+182630: mip =   1.322000000e+03 <=   1.323000000e+03 < 0.1% (19370; 93059)\n",
      "+184571: mip =   1.322000000e+03 <=   1.323000000e+03 < 0.1% (18392; 95066)\n",
      "Time used: 300.0 secs.  Memory used: 26.6 Mb.\n",
      "+186429: mip =   1.322000000e+03 <=   1.323000000e+03 < 0.1% (17399; 97466)\n",
      "+188111: mip =   1.322000000e+03 <=   1.323000000e+03 < 0.1% (16469; 100943)\n",
      "+190453: mip =   1.322000000e+03 <=   1.323000000e+03 < 0.1% (15298; 103543)\n",
      "+192402: mip =   1.322000000e+03 <=   1.323000000e+03 < 0.1% (14047; 107005)\n",
      "+195216: mip =   1.322000000e+03 <=   1.323000000e+03 < 0.1% (12522; 112155)\n",
      "+198811: mip =   1.322000000e+03 <=   1.323000000e+03 < 0.1% (10583; 118315)\n",
      "+204009: mip =   1.322000000e+03 <=   1.323000000e+03 < 0.1% (8193; 128841)\n",
      "+216522: mip =   1.322000000e+03 <=     tree is empty   0.0% (0; 159201)\n",
      "INTEGER OPTIMAL SOLUTION FOUND\n",
      "Time used:   334.2 secs\n",
      "Memory used: 26.6 Mb (27866056 bytes)\n",
      "Writing MIP solution to '/tmp/tmpru6smxuy.glpk.raw'...\n",
      "131 lines were written\n"
     ]
    },
    {
     "data": {
      "text/plain": [
       "<pyomo.core.base.PyomoModel.ConcreteModel at 0x7f08e2535370>"
      ]
     },
     "execution_count": 8,
     "metadata": {},
     "output_type": "execute_result"
    },
    {
     "data": {
      "image/png": "[encoded data removed]",
      "text/plain": [
       "<Figure size 800x400 with 1 Axes>"
      ]
     },
     "metadata": {
      "needs_background": "light"
     },
     "output_type": "display_data"
    }
   ],
   "source": [
    "modelname = 'thinkaloud_model'\n",
    "calc_model([0,1,2,3,4,5,6,7,8,9,10,11], factor_resources, modelname+'_all_months')\n"
   ]
  },
  {
   "cell_type": "code",
   "execution_count": 14,
   "metadata": {},
   "outputs": [
    {
     "name": "stdout",
     "output_type": "stream",
     "text": [
      "10\n",
      "3\n",
      "8\n",
      "5\n"
     ]
    },
    {
     "data": {
      "text/plain": [
       "{'objective': 768,\n",
       " 'numberOfBeds': [10, 12, 0, 2, 10, 2, 2],\n",
       " 'numberOfBookCases': [3, 0, 8, 8, 3, 8, 8],\n",
       " 'numberOfTables': [8, 0, 5, 9, 9, 9, 0],\n",
       " 'numberOfChairs': [5, 6, 7, 4, 2, 4, 11]}"
      ]
     },
     "execution_count": 14,
     "metadata": {},
     "output_type": "execute_result"
    }
   ],
   "source": [
    "import json\n",
    "month = 0\n",
    "f = open('thinkaloud_model_solution.xml')\n",
    "data = json.load(f)\n",
    "optimal_val = 0\n",
    "keys = ['numberOfBeds', 'numberOfBookCases', 'numberOfTables', 'numberOfChairs']\n",
    "for i in range(4):\n",
    "    print(data[keys[i]][month])\n",
    "    \n",
    "data"
   ]
  }
 ],
 "metadata": {
  "kernelspec": {
   "display_name": "Python 3 (ipykernel)",
   "language": "python",
   "name": "python3"
  },
  "language_info": {
   "codemirror_mode": {
    "name": "ipython",
    "version": 3
   },
   "file_extension": ".py",
   "mimetype": "text/x-python",
   "name": "python",
   "nbconvert_exporter": "python",
   "pygments_lexer": "ipython3",
   "version": "3.7.11"
  }
 },
 "nbformat": 4,
 "nbformat_minor": 4
}
