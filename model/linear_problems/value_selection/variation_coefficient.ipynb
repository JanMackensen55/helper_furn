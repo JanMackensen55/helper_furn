{
 "cells": [
  {
   "cell_type": "code",
   "execution_count": 2,
   "id": "bc284d9d",
   "metadata": {},
   "outputs": [],
   "source": [
    "# Calculate variation coefficients for our problem"
   ]
  },
  {
   "cell_type": "code",
   "execution_count": 2,
   "id": "20173fc5",
   "metadata": {},
   "outputs": [],
   "source": [
    "import statistics\n"
   ]
  },
  {
   "cell_type": "code",
   "execution_count": 3,
   "id": "36abb3af",
   "metadata": {},
   "outputs": [],
   "source": [
    "optimal_solution ={'beds':      [4,6,1,4,1,4,3,4,1,1,1,1],\n",
    "                   'bookcases': [2,0,4,2,4,2,1,2,4,4,4,4],\n",
    "                   'tables':     [4,0,2,4,4,4,4,3,2,1,4,0],\n",
    "                    'chairs':   [1,3,3,2,2,2,0,3,4,5,2,5]}"
   ]
  },
  {
   "cell_type": "code",
   "execution_count": 5,
   "id": "8ddba87d",
   "metadata": {},
   "outputs": [
    {
     "name": "stdout",
     "output_type": "stream",
     "text": [
      "0.56\n",
      "0.69\n",
      "0.61\n",
      "0.52\n"
     ]
    }
   ],
   "source": [
    "print(round(statistics.stdev(optimal_solution['chairs'])/ statistics.mean(optimal_solution['chairs']),2))\n",
    "print(round(statistics.stdev(optimal_solution['beds'])/ statistics.mean(optimal_solution['beds']),2))\n",
    "print(round(statistics.stdev(optimal_solution['tables'])/ statistics.mean(optimal_solution['tables']),2))\n",
    "print(round(statistics.stdev(optimal_solution['bookcases'])/ statistics.mean(optimal_solution['bookcases']),2))"
   ]
  },
  {
   "cell_type": "code",
   "execution_count": 6,
   "id": "113675ff",
   "metadata": {},
   "outputs": [
    {
     "name": "stdout",
     "output_type": "stream",
     "text": [
      "month 1: 0.55\n",
      "month 2: 1.28\n",
      "month 3: 0.52\n",
      "month 4: 0.38\n",
      "month 5: 0.55\n",
      "month 6: 0.38\n",
      "month 7: 0.91\n",
      "month 8: 0.27\n",
      "month 9: 0.55\n",
      "month 10: 0.75\n",
      "month 11: 0.55\n",
      "month 12: 0.95\n"
     ]
    }
   ],
   "source": [
    "coef = []\n",
    "for i in range(12):\n",
    "    sol = []\n",
    "    for key, value in optimal_solution.items():\n",
    "         sol.append(value[i])\n",
    "    coef.append(statistics.stdev(sol)/ statistics.mean(sol))        \n",
    "    print(\"month \"+ str(i+1)+ ': ' + str(round(statistics.stdev(sol)/ statistics.mean(sol),2) ))"
   ]
  },
  {
   "cell_type": "code",
   "execution_count": 7,
   "id": "cb6ec9bb",
   "metadata": {},
   "outputs": [
    {
     "data": {
      "text/plain": [
       "[0.5454545454545454,\n",
       " 1.2765694770084508,\n",
       " 0.5163977794943222,\n",
       " 0.38490017945975047,\n",
       " 0.5454545454545454,\n",
       " 0.38490017945975047,\n",
       " 0.9128709291752769,\n",
       " 0.2721655269759087,\n",
       " 0.5454545454545454,\n",
       " 0.7496555682941201,\n",
       " 0.5454545454545454,\n",
       " 0.9521904571390467]"
      ]
     },
     "execution_count": 7,
     "metadata": {},
     "output_type": "execute_result"
    }
   ],
   "source": [
    "coef"
   ]
  }
 ],
 "metadata": {
  "kernelspec": {
   "display_name": "Python 3 (ipykernel)",
   "language": "python",
   "name": "python3"
  },
  "language_info": {
   "codemirror_mode": {
    "name": "ipython",
    "version": 3
   },
   "file_extension": ".py",
   "mimetype": "text/x-python",
   "name": "python",
   "nbconvert_exporter": "python",
   "pygments_lexer": "ipython3",
   "version": "3.7.11"
  }
 },
 "nbformat": 4,
 "nbformat_minor": 5
}
