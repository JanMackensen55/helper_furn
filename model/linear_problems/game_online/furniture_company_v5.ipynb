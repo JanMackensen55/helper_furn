{
 "cells": [
  {
   "cell_type": "markdown",
   "metadata": {},
   "source": [
    "## Furniture Company -  Version 5\n",
    "\n",
    "**This version has scaled down values to enhance the experience of the second game. It is also adjusted to provide integer costs, if items should be split into parts.**\n",
    "\n",
    "Aspects to consider when working with different combinations of variables:\n",
    "\n",
    "### Variation among items\n",
    "\n",
    "+ Looking at variation coefficients among the items for every month, a low value indicates that different furniture is built is distributed similarly.\n",
    "+ At a higher value results indicate the concentration on one item mainly built at one month.\n",
    "\n",
    "### Variation for each item over a year\n",
    "\n",
    "+ Higher values indicate, that the months in which these items are built vary more, e.g they are built in just one month throughout the year.\n",
    "+ Low values show that the distribution of items throughout the year is balanced.\n",
    "+ This enables for example one item to be mainly built in every month, while other items can be relevant just in some months.\n",
    "\n",
    "+ Values < 0.5 makes the items appear regularly\n",
    "+ Values of >= 1 makes them appear in 8 of 12 months with different quantity.\n",
    "\n",
    "+ A useful criterion would be values smaller than 1.1 and greater than 0.65."
   ]
  },
  {
   "cell_type": "markdown",
   "metadata": {},
   "source": [
    "## Model"
   ]
  },
  {
   "cell_type": "code",
   "execution_count": 1,
   "metadata": {},
   "outputs": [],
   "source": [
    "# This is used to import the modules from the experiment folder\n",
    "import os\n",
    "import sys\n",
    "nb_dir = os.path.split(os.getcwd())[0]\n",
    "if nb_dir not in sys.path:\n",
    "    sys.path.append(nb_dir)\n",
    "# First the model builder functionality needs to be imported.\n",
    "from model_builder import Item, ModelBuilder\n",
    "import numpy as np"
   ]
  },
  {
   "cell_type": "code",
   "execution_count": 2,
   "metadata": {},
   "outputs": [],
   "source": [
    "# These values are needed to build the model\n",
    "factor_resources = 1\n",
    "# define the profit per month for each item:\n",
    "\n",
    "chair_profit =    [2,3,3,2,2,1,2,3,2,2,2,2]\n",
    "table_profit =    [4,4,4,5,4,3,4,5,4,4,3,3]\n",
    "bed_profit =      [7,7,5,5,3,5,4,4,5,4,5,6]\n",
    "bookcase_profit =[7,8,10,8,6,7,7,8,10,9,7,10]\n",
    "\n",
    "# define the items:\n",
    "chair = Item(costs_wood=4,costs_metal=1,costs_time_one=4,costs_time_two=1,profit=chair_profit)\n",
    "table = Item(2,5,4,6,table_profit)\n",
    "bed = Item(4,3,3,4, bed_profit)\n",
    "bookcase = Item(5,7,5,3,bookcase_profit)\n",
    "# Making calculations for one year\n",
    "months = 12\n",
    "# specifying available materials\n",
    "avail_hours_a = 26*factor_resources\n",
    "avail_hours_b = 30*factor_resources\n",
    "avail_hours_c = 23*factor_resources\n",
    "avail_hours_d = 26*factor_resources\n",
    "\n",
    "avail_wood = list(map(lambda i: round(i/8), [200, 300, 457, 372, 322, 432, 413, 406, 377, 412, 395, 366]))\n",
    "avail_metal = list(map(lambda i: round(i/8), [463, 168, 773, 380, 353, 391, 392, 473, 370, 350, 351, 293]))"
   ]
  },
  {
   "cell_type": "code",
   "execution_count": null,
   "metadata": {},
   "outputs": [],
   "source": [
    "# Set up the model builder: \n",
    "model_builder = ModelBuilder(months=months, avail_wood=avail_wood, avail_metal=avail_metal\n",
    "                            , avail_hours_a=avail_hours_a,avail_hours_b=avail_hours_b\n",
    "                            , avail_hours_c=avail_hours_c,avail_hours_d=avail_hours_d\n",
    "                            , chair=chair,table=table, bed=bed, bookcase=bookcase)\n",
    "# build the model:\n",
    "model = model_builder.build_model()\n"
   ]
  },
  {
   "cell_type": "code",
   "execution_count": null,
   "metadata": {},
   "outputs": [],
   "source": [
    "model_builder.save_model('model_v5_parts')\n",
    "a.optimal_solution.save_solution('model_v5_solution_parts')"
   ]
  },
  {
   "cell_type": "markdown",
   "metadata": {
    "pycharm": {
     "name": "#%% md\n"
    }
   },
   "source": [
    "## Random Agent\n",
    "This agent solves the problem by randomly picking affordable items and producing a random number of the chosen item until nothing more can be produced. "
   ]
  },
  {
   "cell_type": "code",
   "execution_count": null,
   "metadata": {
    "pycharm": {
     "name": "#%%\n"
    }
   },
   "outputs": [],
   "source": [
    "# importing a random agent\n",
    "from agents import RandomAgent\n",
    "agents = []\n",
    "a = RandomAgent(model)\n",
    "a.simulate_year()\n",
    "agents.append(a)"
   ]
  },
  {
   "cell_type": "code",
   "execution_count": null,
   "metadata": {},
   "outputs": [],
   "source": [
    "#create multiple random agents and simulate the year\n",
    "# Step through every month with the strategy of the agent\n",
    "random_agents = []\n",
    "for i in range(100):\n",
    "    r = RandomAgent(model)\n",
    "    r.simulate_year()\n",
    "    random_agents.append(r)\n",
    "\n",
    "mean_profits = [int(np.round(np.mean([agent.profits[i] for agent in random_agents]))) for i in range(12)]\n",
    "print('Mean Profit of random agent: ', sum(mean_profits))\n",
    "print('Optimal Solution Profit: ', sum(random_agents[0].optimal_solution.profits))"
   ]
  },
  {
   "cell_type": "code",
   "execution_count": null,
   "metadata": {},
   "outputs": [],
   "source": [
    "a.print_profits()"
   ]
  },
  {
   "cell_type": "markdown",
   "metadata": {},
   "source": [
    "### Plots"
   ]
  },
  {
   "cell_type": "code",
   "execution_count": null,
   "metadata": {},
   "outputs": [],
   "source": [
    "# Plot the profit for each month of the agent compared to the optimal solution\n",
    "a.plot_profits()"
   ]
  },
  {
   "cell_type": "code",
   "execution_count": null,
   "metadata": {},
   "outputs": [],
   "source": [
    "# Show the amount of produced items per month for the agent\n",
    "a.plot_produced_items()"
   ]
  },
  {
   "cell_type": "code",
   "execution_count": null,
   "metadata": {},
   "outputs": [],
   "source": [
    "# Show the amount of produced items per month from the optimal solution\n",
    "a.plot_produced_items(a.optimal_solution)"
   ]
  },
  {
   "cell_type": "markdown",
   "metadata": {},
   "source": [
    "## ExpensiveMaterialAgent\n",
    "This agent builds the products that have the highest costs first.\n",
    "It does not make any differences between the costs, they are all recieve the same weight."
   ]
  },
  {
   "cell_type": "code",
   "execution_count": null,
   "metadata": {},
   "outputs": [],
   "source": [
    "from agents import ExpensiveMaterialAgent"
   ]
  },
  {
   "cell_type": "code",
   "execution_count": null,
   "metadata": {},
   "outputs": [],
   "source": [
    "e = ExpensiveMaterialAgent(model)\n",
    "e.simulate_year()\n",
    "agents.append(e)"
   ]
  },
  {
   "cell_type": "code",
   "execution_count": null,
   "metadata": {},
   "outputs": [],
   "source": [
    "# Compare the agent profit with the optimal solution\n",
    "e.print_profits()"
   ]
  },
  {
   "cell_type": "code",
   "execution_count": null,
   "metadata": {},
   "outputs": [],
   "source": [
    "e.plot_profits()"
   ]
  },
  {
   "cell_type": "code",
   "execution_count": null,
   "metadata": {},
   "outputs": [],
   "source": [
    "e.plot_produced_items()"
   ]
  },
  {
   "cell_type": "code",
   "execution_count": null,
   "metadata": {},
   "outputs": [],
   "source": [
    "e.plot_produced_items(e.optimal_solution)"
   ]
  },
  {
   "cell_type": "markdown",
   "metadata": {},
   "source": [
    "## NaiveProfitAgent\n",
    "This agent builds the products that promise the most profit first.\n",
    "It does not consider any costs."
   ]
  },
  {
   "cell_type": "code",
   "execution_count": null,
   "metadata": {},
   "outputs": [],
   "source": [
    "from agents import NaiveProfitAgent\n",
    "c = NaiveProfitAgent(model)\n",
    "c.simulate_year()\n",
    "agents.append(c)"
   ]
  },
  {
   "cell_type": "code",
   "execution_count": null,
   "metadata": {},
   "outputs": [],
   "source": [
    "c.print_profits()"
   ]
  },
  {
   "cell_type": "code",
   "execution_count": null,
   "metadata": {},
   "outputs": [],
   "source": [
    "c.plot_profits()"
   ]
  },
  {
   "cell_type": "code",
   "execution_count": null,
   "metadata": {},
   "outputs": [],
   "source": [
    "c.plot_produced_items()"
   ]
  },
  {
   "cell_type": "code",
   "execution_count": null,
   "metadata": {},
   "outputs": [],
   "source": [
    "c.plot_produced_items(c.optimal_solution)"
   ]
  },
  {
   "cell_type": "markdown",
   "metadata": {},
   "source": [
    "## MarginProfitAgent\n",
    "This agent behaves the same as the naive profit agent but considers the costs of the items"
   ]
  },
  {
   "cell_type": "code",
   "execution_count": null,
   "metadata": {},
   "outputs": [],
   "source": [
    "from agents import MarginProfitAgent"
   ]
  },
  {
   "cell_type": "code",
   "execution_count": null,
   "metadata": {},
   "outputs": [],
   "source": [
    "margin_agent = MarginProfitAgent(model)\n",
    "margin_agent.simulate_year()\n",
    "agents.append(margin_agent)"
   ]
  },
  {
   "cell_type": "code",
   "execution_count": null,
   "metadata": {},
   "outputs": [],
   "source": [
    "margin_agent.print_profits()"
   ]
  },
  {
   "cell_type": "code",
   "execution_count": null,
   "metadata": {},
   "outputs": [],
   "source": [
    "margin_agent.plot_profits()"
   ]
  },
  {
   "cell_type": "code",
   "execution_count": null,
   "metadata": {},
   "outputs": [],
   "source": [
    "margin_agent.plot_produced_items()"
   ]
  },
  {
   "cell_type": "code",
   "execution_count": null,
   "metadata": {},
   "outputs": [],
   "source": [
    "margin_agent.plot_produced_items(margin_agent.optimal_solution)"
   ]
  },
  {
   "cell_type": "markdown",
   "metadata": {},
   "source": [
    "## Compare Agents"
   ]
  },
  {
   "cell_type": "code",
   "execution_count": null,
   "metadata": {},
   "outputs": [],
   "source": [
    "from matplotlib import pyplot as plt\n",
    "import pandas as pd\n",
    "from IPython.display import display"
   ]
  },
  {
   "cell_type": "code",
   "execution_count": null,
   "metadata": {},
   "outputs": [],
   "source": [
    "# Compare the profits of each agent\n",
    "for a in agents:\n",
    "    plt.plot(range(1,13), a.profits)\n",
    "plt.legend([a.name for a in agents])\n",
    "plt.title('Profits of Every Agent')\n",
    "plt.xticks(range(1,13))\n",
    "plt.show()"
   ]
  },
  {
   "cell_type": "code",
   "execution_count": null,
   "metadata": {},
   "outputs": [],
   "source": [
    "sums = [sum(a.profits) for a in agents]\n",
    "df = pd.DataFrame(sums, index=[a.name for a in agents])\n",
    "df.columns = ['Profit']\n",
    "display(df)\n",
    "df.plot(kind='bar', legend=False,width=0.3,figsize=(7,5),rot=1,title='Profits')\n",
    "plt.show()"
   ]
  },
  {
   "cell_type": "code",
   "execution_count": null,
   "metadata": {},
   "outputs": [],
   "source": [
    "# Compare built Items\n",
    "for a in agents:\n",
    "    print(a.name)\n",
    "    a.plot_produced_items()"
   ]
  },
  {
   "cell_type": "code",
   "execution_count": null,
   "metadata": {},
   "outputs": [],
   "source": [
    "for a in agents:\n",
    "    print(a.name)\n",
    "    a.plot_unused_resources()\n",
    "a.plot_unused_resources(a.optimal_solution)"
   ]
  },
  {
   "cell_type": "markdown",
   "metadata": {},
   "source": [
    "## Review variation between items built\n",
    "In this section the variation coefficient is used to compare the items built"
   ]
  },
  {
   "cell_type": "code",
   "execution_count": null,
   "metadata": {},
   "outputs": [],
   "source": [
    "from agents import stats\n",
    "optimal_solution = RandomAgent(model).optimal_solution\n",
    "variation_between_items = [stats.get_distributed_variation(optimal_solution, m) for m in range(12)]\n",
    "variation_each_item = [stats.get_month_variation(optimal_solution, k) for k in optimal_solution.produced_items.keys()]"
   ]
  },
  {
   "cell_type": "code",
   "execution_count": null,
   "metadata": {},
   "outputs": [],
   "source": [
    "variation_between_items"
   ]
  },
  {
   "cell_type": "code",
   "execution_count": null,
   "metadata": {},
   "outputs": [],
   "source": [
    "variation_each_item"
   ]
  },
  {
   "cell_type": "code",
   "execution_count": null,
   "metadata": {},
   "outputs": [],
   "source": [
    "from agents import WeightedMarginAgent\n",
    "f = WeightedMarginAgent(model)"
   ]
  },
  {
   "cell_type": "code",
   "execution_count": null,
   "metadata": {},
   "outputs": [],
   "source": [
    "f.simulate_year()"
   ]
  },
  {
   "cell_type": "code",
   "execution_count": null,
   "metadata": {},
   "outputs": [],
   "source": [
    "f.print_profits()"
   ]
  },
  {
   "cell_type": "code",
   "execution_count": null,
   "metadata": {},
   "outputs": [],
   "source": [
    "f.plot_produced_items()"
   ]
  },
  {
   "cell_type": "code",
   "execution_count": null,
   "metadata": {},
   "outputs": [],
   "source": []
  },
  {
   "cell_type": "code",
   "execution_count": null,
   "metadata": {},
   "outputs": [],
   "source": []
  },
  {
   "cell_type": "code",
   "execution_count": null,
   "metadata": {},
   "outputs": [],
   "source": []
  },
  {
   "cell_type": "code",
   "execution_count": null,
   "metadata": {},
   "outputs": [],
   "source": []
  },
  {
   "cell_type": "code",
   "execution_count": null,
   "metadata": {},
   "outputs": [],
   "source": []
  },
  {
   "cell_type": "code",
   "execution_count": null,
   "metadata": {},
   "outputs": [],
   "source": []
  },
  {
   "cell_type": "code",
   "execution_count": null,
   "metadata": {},
   "outputs": [],
   "source": []
  },
  {
   "cell_type": "code",
   "execution_count": null,
   "metadata": {},
   "outputs": [],
   "source": []
  }
 ],
 "metadata": {
  "kernelspec": {
   "display_name": "Python 3",
   "language": "python",
   "name": "python3"
  },
  "language_info": {
   "codemirror_mode": {
    "name": "ipython",
    "version": 3
   },
   "file_extension": ".py",
   "mimetype": "text/x-python",
   "name": "python",
   "nbconvert_exporter": "python",
   "pygments_lexer": "ipython3",
   "version": "3.7.0"
  }
 },
 "nbformat": 4,
 "nbformat_minor": 4
}
