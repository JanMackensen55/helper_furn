{
 "cells": [
  {
   "cell_type": "markdown",
   "metadata": {},
   "source": [
    "## Furniture Company -  Version 6\n",
    "\n",
    "**This version has scaled down values to enhance the experience of the second game. It is also adjusted to provide integer costs, if items should be split into parts.**\n",
    "\n",
    "Aspects to consider when working with different combinations of variables:\n",
    "\n",
    "### Variation among items\n",
    "\n",
    "+ Looking at variation coefficients among the items for every month, a low value indicates that different furniture is built is distributed similarly.\n",
    "+ At a higher value results indicate the concentration on one item mainly built at one month.\n",
    "\n",
    "### Variation for each item over a year\n",
    "\n",
    "+ Higher values indicate, that the months in which these items are built vary more, e.g they are built in just one month throughout the year.\n",
    "+ Low values show that the distribution of items throughout the year is balanced.\n",
    "+ This enables for example one item to be mainly built in every month, while other items can be relevant just in some months.\n",
    "\n",
    "+ Values < 0.5 makes the items appear regularly\n",
    "+ Values of >= 1 makes them appear in 8 of 12 months with different quantity.\n",
    "\n",
    "+ A useful criterion would be values smaller than 1.1 and greater than 0.65."
   ]
  },
  {
   "cell_type": "markdown",
   "metadata": {},
   "source": [
    "## Model"
   ]
  },
  {
   "cell_type": "code",
   "execution_count": 1,
   "metadata": {},
   "outputs": [],
   "source": [
    "# This is used to import the modules from the experiment folder\n",
    "import os\n",
    "import sys\n",
    "nb_dir = os.path.split(os.getcwd())[0]\n",
    "if nb_dir not in sys.path:\n",
    "    sys.path.append(nb_dir)\n",
    "# First the model builder functionality needs to be imported.\n",
    "from model_builder import Item, ModelBuilder\n",
    "from pyomo.core.base import (Var, value, Objective)\n",
    "import numpy as np"
   ]
  },
  {
   "cell_type": "code",
   "execution_count": 2,
   "metadata": {},
   "outputs": [],
   "source": [
    "def reorder_list(ls, indices):\n",
    "    \"\"\"Reoders a list by the provided list of indices.\n",
    "    The list of indices provides the new order by defining which element shall be put \n",
    "    at the given place.\n",
    "    \n",
    "    Args:\n",
    "        ls (list): the list that should be reordered.\n",
    "        indices (list): a list of indices with the same length as ls.\n",
    "        \n",
    "    Example: \n",
    "    my_list = [1,2,3]\n",
    "    reorder_list(my_list, [2,0,1]) # --> my_list = [3,1,2]\n",
    "    \"\"\"\n",
    "    ls = [ls[x] for x in indices]\n",
    "    return ls"
   ]
  },
  {
   "cell_type": "code",
   "execution_count": 3,
   "metadata": {},
   "outputs": [],
   "source": [
    "# These values are needed to build the model\n",
    "factor_resources = 1\n",
    "indices = [6,1,4,3,2,5,0,10,8,9,7,11] # Lists have been reordered by request. Remove the method calls if you want to\n",
    "# change the order freely. It just could save time if you want to change specific months.\n",
    "# define the profit per month for each item:\n",
    "chair_profit =    reorder_list([2,3,3,2,2,1,2,3,2,2,2,2], indices)\n",
    "table_profit =    reorder_list([4,4,4,5,4,3,4,5,4,4,3,3], indices)\n",
    "bed_profit =      reorder_list([7,7,5,5,3,5,4,4,5,4,5,6], indices)\n",
    "bookcase_profit = reorder_list([7,8,10,8,6,7,7,8,10,9,7,10], indices)\n",
    " \n",
    "\n",
    "\n",
    "# define the items:\n",
    "chair = Item(costs_wood=4,costs_metal=1,costs_time_one=4,costs_time_two=1,profit=chair_profit)\n",
    "table = Item(2,5,4,6,table_profit)\n",
    "bed = Item(4,3,3,4, bed_profit)\n",
    "bookcase = Item(5,7,5,3,bookcase_profit)\n",
    "# Making calculations for one year\n",
    "months = 12\n",
    "# specifying available materials\n",
    "avail_hours_a = 26*factor_resources\n",
    "avail_hours_b = 30*factor_resources\n",
    "avail_hours_c = 23*factor_resources\n",
    "avail_hours_d = 26*factor_resources\n",
    "\n",
    "avail_wood = list(map(lambda i: round(i/8), reorder_list([200, 300, 457, 372, 322, 432, 413, 406, 377, 412, 395, 366],indices)))\n",
    "avail_metal = list(map(lambda i: round(i/8), reorder_list([463, 168, 773, 380, 353, 391, 392, 473, 370, 350, 351, 293], indices)))"
   ]
  },
  {
   "cell_type": "code",
   "execution_count": 4,
   "metadata": {},
   "outputs": [
    {
     "name": "stdout",
     "output_type": "stream",
     "text": [
      "GLPSOL: GLPK LP/MIP Solver, v4.65\n",
      "Parameter(s) specified in the command line:\n",
      " --write /tmp/tmpikajuuoj.glpk.raw --wglp /tmp/tmpxvs7c3db.glpk.glp --cpxlp\n",
      " /tmp/tmpsubury69.pyomo.lp\n",
      "Reading problem data from '/tmp/tmpsubury69.pyomo.lp'...\n",
      "73 rows, 49 columns, 193 non-zeros\n",
      "516 lines were read\n",
      "Writing problem data to '/tmp/tmpxvs7c3db.glpk.glp'...\n",
      "439 lines were written\n",
      "GLPK Simplex Optimizer, v4.65\n",
      "73 rows, 49 columns, 193 non-zeros\n",
      "Preprocessing...\n",
      "72 rows, 48 columns, 192 non-zeros\n",
      "Scaling...\n",
      " A: min|aij| =  1.000e+00  max|aij| =  7.000e+00  ratio =  7.000e+00\n",
      "Problem data seem to be well scaled\n",
      "Constructing initial basis...\n",
      "Size of triangular part is 72\n",
      "*     0: obj =  -0.000000000e+00 inf =   0.000e+00 (48)\n",
      "*    46: obj =   6.722036733e+02 inf =   0.000e+00 (0)\n",
      "OPTIMAL LP SOLUTION FOUND\n",
      "Time used:   0.0 secs\n",
      "Memory used: 0.1 Mb (125587 bytes)\n",
      "Writing basic solution to '/tmp/tmpikajuuoj.glpk.raw'...\n",
      "131 lines were written\n"
     ]
    }
   ],
   "source": [
    "# Set up the model builder: \n",
    "model_builder = ModelBuilder(months=months, avail_wood=avail_wood, avail_metal=avail_metal\n",
    "                            , avail_hours_a=avail_hours_a,avail_hours_b=avail_hours_b\n",
    "                            , avail_hours_c=avail_hours_c,avail_hours_d=avail_hours_d\n",
    "                            , chair=chair,table=table, bed=bed, bookcase=bookcase, continuous = True)\n",
    "# build the model:\n",
    "model = model_builder.build_model()\n"
   ]
  },
  {
   "cell_type": "code",
   "execution_count": 16,
   "metadata": {},
   "outputs": [],
   "source": [
    "def solution(m):\n",
    "    x = []\n",
    "    for v in m.component_objects(Var, active=True):\n",
    "        l = []\n",
    "        for index in v:\n",
    "            l.append(np.round(v[index].value,2))\n",
    "        x.append(l)\n",
    "    return x"
   ]
  },
  {
   "cell_type": "code",
   "execution_count": 17,
   "metadata": {},
   "outputs": [
    {
     "data": {
      "text/plain": [
       "672.2036732874967"
      ]
     },
     "execution_count": 17,
     "metadata": {},
     "output_type": "execute_result"
    }
   ],
   "source": [
    "value(model.cost)"
   ]
  },
  {
   "cell_type": "code",
   "execution_count": 18,
   "metadata": {},
   "outputs": [
    {
     "data": {
      "text/plain": [
       "[[5.55, 5.75, 0.0, 5.64, 0.0, 5.55, 3.75, 5.55, 0.0, 0.0, 0.0, 5.55],\n",
       " [1.27, 0.0, 3.85, 1.14, 4.6, 1.27, 0.0, 1.27, 4.6, 4.6, 4.6, 1.27],\n",
       " [4.24, 0.0, 2.63, 4.14, 4.7, 4.24, 5.0, 2.99, 1.82, 1.32, 4.7, 1.58],\n",
       " [2.26, 3.75, 3.87, 2.36, 1.8, 2.26, 0.0, 3.51, 4.68, 5.18, 1.8, 3.58]]"
      ]
     },
     "execution_count": 18,
     "metadata": {},
     "output_type": "execute_result"
    }
   ],
   "source": [
    "solution(model)"
   ]
  },
  {
   "cell_type": "code",
   "execution_count": null,
   "metadata": {},
   "outputs": [],
   "source": [
    "beds: [5.5, 5.8, 0.0, 5.6,   0.0, 5.5, 3.8, 5.5,   0.0, 0.0, 0.0, 5.5],\n",
    "book: [1.3, 0.0, 3.9, 1.1,   4.6, 1.3, 0.0, 1.3,   4.6, 4.6, 4.6, 1.3],\n",
    "table [4.2, 0.0, 2.6, 4.1,   4.7, 4.2, 5.0, 3.0,   1.8, 1.3, 4.7, 1.6],\n",
    "chair [2.3, 3.8, 3.9, 2.4,   1.8, 2.3, 0.0, 3.5,   4.7, 5.2, 1.8, 3.6]"
   ]
  }
 ],
 "metadata": {
  "kernelspec": {
   "display_name": "Python 3 (ipykernel)",
   "language": "python",
   "name": "python3"
  },
  "language_info": {
   "codemirror_mode": {
    "name": "ipython",
    "version": 3
   },
   "file_extension": ".py",
   "mimetype": "text/x-python",
   "name": "python",
   "nbconvert_exporter": "python",
   "pygments_lexer": "ipython3",
   "version": "3.7.11"
  }
 },
 "nbformat": 4,
 "nbformat_minor": 4
}
